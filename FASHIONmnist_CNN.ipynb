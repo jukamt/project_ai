{
  "nbformat": 4,
  "nbformat_minor": 0,
  "metadata": {
    "colab": {
      "name": "FASHION_CNN.ipynb",
      "provenance": [],
      "collapsed_sections": [],
      "authorship_tag": "ABX9TyPGDS6rIBOdmIibez/XOLKy",
      "include_colab_link": true
    },
    "kernelspec": {
      "name": "python3",
      "display_name": "Python 3"
    },
    "language_info": {
      "name": "python"
    },
    "accelerator": "GPU"
  },
  "cells": [
    {
      "cell_type": "markdown",
      "metadata": {
        "id": "view-in-github",
        "colab_type": "text"
      },
      "source": [
        "<a href=\"https://colab.research.google.com/github/jukamt/project_ai/blob/main/FASHIONmnist_CNN.ipynb\" target=\"_parent\"><img src=\"https://colab.research.google.com/assets/colab-badge.svg\" alt=\"Open In Colab\"/></a>"
      ]
    },
    {
      "cell_type": "code",
      "execution_count": 1,
      "metadata": {
        "id": "8Oog7C-cc5-K"
      },
      "outputs": [],
      "source": [
        "import numpy as np\n",
        "import tensorflow as td\n",
        "import matplotlib.pyplot as plt\n",
        "from keras.backend import conv2d\n",
        "from keras.layers.core.dropout import Dropout\n",
        "from keras.utils import np_utils\n",
        "from keras.datasets import fashion_mnist\n",
        "from keras.layers import Dense, Dropout\n",
        "from keras.models import Sequential\n",
        "from tensorflow.keras.layers import Conv2D, MaxPooling2D, Flatten\n",
        "from tensorflow.keras.optimizers import RMSprop, SGD\n",
        "from keras.callbacks import EarlyStopping"
      ]
    },
    {
      "cell_type": "code",
      "source": [
        "(x_train, y_train),(x_test,y_test) = fashion_mnist.load_data()\n",
        "print('Kích thước x_train: ', x_train.shape)\n",
        "print('Kích thước y_train: ', y_train.shape)\n",
        "print('Kích thước x_test: ', x_test.shape)\n",
        "print('Kích thước y_test: ', y_test.shape)"
      ],
      "metadata": {
        "colab": {
          "base_uri": "https://localhost:8080/"
        },
        "id": "2hQ4VSfpdTyq",
        "outputId": "c74980de-6dca-4648-d6cc-ff052bc072bf"
      },
      "execution_count": 2,
      "outputs": [
        {
          "output_type": "stream",
          "name": "stdout",
          "text": [
            "Downloading data from https://storage.googleapis.com/tensorflow/tf-keras-datasets/train-labels-idx1-ubyte.gz\n",
            "32768/29515 [=================================] - 0s 0us/step\n",
            "40960/29515 [=========================================] - 0s 0us/step\n",
            "Downloading data from https://storage.googleapis.com/tensorflow/tf-keras-datasets/train-images-idx3-ubyte.gz\n",
            "26427392/26421880 [==============================] - 0s 0us/step\n",
            "26435584/26421880 [==============================] - 0s 0us/step\n",
            "Downloading data from https://storage.googleapis.com/tensorflow/tf-keras-datasets/t10k-labels-idx1-ubyte.gz\n",
            "16384/5148 [===============================================================================================] - 0s 0us/step\n",
            "Downloading data from https://storage.googleapis.com/tensorflow/tf-keras-datasets/t10k-images-idx3-ubyte.gz\n",
            "4423680/4422102 [==============================] - 0s 0us/step\n",
            "4431872/4422102 [==============================] - 0s 0us/step\n",
            "Kích thước x_train:  (60000, 28, 28)\n",
            "Kích thước y_train:  (60000,)\n",
            "Kích thước x_test:  (10000, 28, 28)\n",
            "Kích thước y_test:  (10000,)\n"
          ]
        }
      ]
    },
    {
      "cell_type": "code",
      "source": [
        "#chuẩn hoá dữ liệu\n",
        "x_train = x_train.astype('float32')\n",
        "x_test = x_test.astype('float32')\n",
        "x_train/=255\n",
        "x_test/=255\n",
        "y_train = np_utils.to_categorical(y_train,100)\n",
        "y_test = np_utils.to_categorical(y_test,100)\n",
        "print('Kích thước x_train: ', x_train.shape)\n",
        "print('Kích thước y_train: ', y_train.shape)\n",
        "print('Kích thước x_test: ', x_test.shape)\n",
        "print('Kích thước y_test: ', y_test.shape)"
      ],
      "metadata": {
        "colab": {
          "base_uri": "https://localhost:8080/"
        },
        "id": "m8VGaf_HdWaC",
        "outputId": "56432b78-45a5-4cf8-ff0b-b2da7232ffa5"
      },
      "execution_count": 3,
      "outputs": [
        {
          "output_type": "stream",
          "name": "stdout",
          "text": [
            "Kích thước x_train:  (60000, 28, 28)\n",
            "Kích thước y_train:  (60000, 100)\n",
            "Kích thước x_test:  (10000, 28, 28)\n",
            "Kích thước y_test:  (10000, 100)\n"
          ]
        }
      ]
    },
    {
      "cell_type": "code",
      "source": [
        "#tạo mô hình CNN\n",
        "model = Sequential()\n",
        "\n",
        "model.add(Conv2D(32,(3,3),activation='relu',kernel_initializer = 'he_uniform',padding='same',input_shape=(28,28,1)))\n",
        "model.add(Conv2D(32,(3,3), activation='relu',kernel_initializer = 'he_uniform',padding = 'same'))\n",
        "model.add(MaxPooling2D((2,2)))\n",
        "\n",
        "model.add(Conv2D(64,(3,3), activation='relu',kernel_initializer = 'he_uniform',padding = 'same',))\n",
        "model.add(Conv2D(64,(3,3), activation='relu',kernel_initializer = 'he_uniform',padding = 'same'))\n",
        "model.add(MaxPooling2D((2,2)))\n",
        "\n",
        "model.add(Conv2D(128,(3,3), activation='relu',kernel_initializer = 'he_uniform',padding = 'same',))\n",
        "model.add(Conv2D(128,(3,3), activation='relu',kernel_initializer = 'he_uniform',padding = 'same'))\n",
        "model.add(MaxPooling2D((2,2)))\n",
        "\n",
        "model.add(Flatten())\n",
        "model.add(Dense(128,activation='relu',kernel_initializer = 'he_uniform'))\n",
        "model.add(Dense(100,activation='softmax'))\n",
        "model.summary()"
      ],
      "metadata": {
        "colab": {
          "base_uri": "https://localhost:8080/"
        },
        "id": "ayZPYZ9sdXa5",
        "outputId": "5168704d-dd40-4ded-84fc-32da6fabe03c"
      },
      "execution_count": 4,
      "outputs": [
        {
          "output_type": "stream",
          "name": "stdout",
          "text": [
            "Model: \"sequential\"\n",
            "_________________________________________________________________\n",
            " Layer (type)                Output Shape              Param #   \n",
            "=================================================================\n",
            " conv2d (Conv2D)             (None, 28, 28, 32)        320       \n",
            "                                                                 \n",
            " conv2d_1 (Conv2D)           (None, 28, 28, 32)        9248      \n",
            "                                                                 \n",
            " max_pooling2d (MaxPooling2D  (None, 14, 14, 32)       0         \n",
            " )                                                               \n",
            "                                                                 \n",
            " conv2d_2 (Conv2D)           (None, 14, 14, 64)        18496     \n",
            "                                                                 \n",
            " conv2d_3 (Conv2D)           (None, 14, 14, 64)        36928     \n",
            "                                                                 \n",
            " max_pooling2d_1 (MaxPooling  (None, 7, 7, 64)         0         \n",
            " 2D)                                                             \n",
            "                                                                 \n",
            " conv2d_4 (Conv2D)           (None, 7, 7, 128)         73856     \n",
            "                                                                 \n",
            " conv2d_5 (Conv2D)           (None, 7, 7, 128)         147584    \n",
            "                                                                 \n",
            " max_pooling2d_2 (MaxPooling  (None, 3, 3, 128)        0         \n",
            " 2D)                                                             \n",
            "                                                                 \n",
            " flatten (Flatten)           (None, 1152)              0         \n",
            "                                                                 \n",
            " dense (Dense)               (None, 128)               147584    \n",
            "                                                                 \n",
            " dense_1 (Dense)             (None, 100)               12900     \n",
            "                                                                 \n",
            "=================================================================\n",
            "Total params: 446,916\n",
            "Trainable params: 446,916\n",
            "Non-trainable params: 0\n",
            "_________________________________________________________________\n"
          ]
        }
      ]
    },
    {
      "cell_type": "code",
      "source": [
        "#complie model\n",
        "opt = SGD(learning_rate=0.01, momentum=0.9)\n",
        "model.compile(optimizer=opt, loss='categorical_crossentropy', metrics=['accuracy'])\n",
        "history = model.fit(x_train, y_train, epochs=100, batch_size=128, validation_data=(x_test, y_test), verbose=1, callbacks=[EarlyStopping(monitor='val_loss',patience=80)])"
      ],
      "metadata": {
        "colab": {
          "base_uri": "https://localhost:8080/"
        },
        "id": "YSSxocWEdyvB",
        "outputId": "e2ac1843-01a1-40f9-e03b-6911dddb84fb"
      },
      "execution_count": 5,
      "outputs": [
        {
          "output_type": "stream",
          "name": "stdout",
          "text": [
            "Epoch 1/100\n",
            "469/469 [==============================] - 18s 13ms/step - loss: 0.6194 - accuracy: 0.7881 - val_loss: 0.3756 - val_accuracy: 0.8631\n",
            "Epoch 2/100\n",
            "469/469 [==============================] - 6s 13ms/step - loss: 0.3172 - accuracy: 0.8840 - val_loss: 0.3182 - val_accuracy: 0.8805\n",
            "Epoch 3/100\n",
            "469/469 [==============================] - 6s 13ms/step - loss: 0.2673 - accuracy: 0.9028 - val_loss: 0.2907 - val_accuracy: 0.8941\n",
            "Epoch 4/100\n",
            "469/469 [==============================] - 6s 13ms/step - loss: 0.2338 - accuracy: 0.9142 - val_loss: 0.2610 - val_accuracy: 0.9072\n",
            "Epoch 5/100\n",
            "469/469 [==============================] - 8s 16ms/step - loss: 0.2065 - accuracy: 0.9244 - val_loss: 0.2566 - val_accuracy: 0.9076\n",
            "Epoch 6/100\n",
            "469/469 [==============================] - 7s 14ms/step - loss: 0.1860 - accuracy: 0.9311 - val_loss: 0.2432 - val_accuracy: 0.9110\n",
            "Epoch 7/100\n",
            "469/469 [==============================] - 6s 13ms/step - loss: 0.1661 - accuracy: 0.9386 - val_loss: 0.2561 - val_accuracy: 0.9144\n",
            "Epoch 8/100\n",
            "469/469 [==============================] - 6s 12ms/step - loss: 0.1506 - accuracy: 0.9449 - val_loss: 0.2397 - val_accuracy: 0.9186\n",
            "Epoch 9/100\n",
            "469/469 [==============================] - 6s 12ms/step - loss: 0.1325 - accuracy: 0.9519 - val_loss: 0.2454 - val_accuracy: 0.9165\n",
            "Epoch 10/100\n",
            "469/469 [==============================] - 6s 12ms/step - loss: 0.1179 - accuracy: 0.9559 - val_loss: 0.2423 - val_accuracy: 0.9195\n",
            "Epoch 11/100\n",
            "469/469 [==============================] - 6s 13ms/step - loss: 0.1035 - accuracy: 0.9621 - val_loss: 0.2652 - val_accuracy: 0.9176\n",
            "Epoch 12/100\n",
            "469/469 [==============================] - 6s 12ms/step - loss: 0.0938 - accuracy: 0.9656 - val_loss: 0.2637 - val_accuracy: 0.9195\n",
            "Epoch 13/100\n",
            "469/469 [==============================] - 6s 14ms/step - loss: 0.0789 - accuracy: 0.9712 - val_loss: 0.2761 - val_accuracy: 0.9151\n",
            "Epoch 14/100\n",
            "469/469 [==============================] - 7s 14ms/step - loss: 0.0723 - accuracy: 0.9735 - val_loss: 0.2979 - val_accuracy: 0.9174\n",
            "Epoch 15/100\n",
            "469/469 [==============================] - 6s 12ms/step - loss: 0.0650 - accuracy: 0.9758 - val_loss: 0.3000 - val_accuracy: 0.9160\n",
            "Epoch 16/100\n",
            "469/469 [==============================] - 6s 12ms/step - loss: 0.0600 - accuracy: 0.9779 - val_loss: 0.2959 - val_accuracy: 0.9201\n",
            "Epoch 17/100\n",
            "469/469 [==============================] - 6s 12ms/step - loss: 0.0518 - accuracy: 0.9805 - val_loss: 0.3495 - val_accuracy: 0.9192\n",
            "Epoch 18/100\n",
            "469/469 [==============================] - 6s 12ms/step - loss: 0.0473 - accuracy: 0.9825 - val_loss: 0.3349 - val_accuracy: 0.9175\n",
            "Epoch 19/100\n",
            "469/469 [==============================] - 6s 12ms/step - loss: 0.0415 - accuracy: 0.9845 - val_loss: 0.3455 - val_accuracy: 0.9183\n",
            "Epoch 20/100\n",
            "469/469 [==============================] - 6s 13ms/step - loss: 0.0382 - accuracy: 0.9860 - val_loss: 0.3970 - val_accuracy: 0.9180\n",
            "Epoch 21/100\n",
            "469/469 [==============================] - 6s 12ms/step - loss: 0.0303 - accuracy: 0.9888 - val_loss: 0.4478 - val_accuracy: 0.9161\n",
            "Epoch 22/100\n",
            "469/469 [==============================] - 6s 13ms/step - loss: 0.0329 - accuracy: 0.9880 - val_loss: 0.3982 - val_accuracy: 0.9189\n",
            "Epoch 23/100\n",
            "469/469 [==============================] - 6s 13ms/step - loss: 0.0274 - accuracy: 0.9899 - val_loss: 0.4095 - val_accuracy: 0.9172\n",
            "Epoch 24/100\n",
            "469/469 [==============================] - 6s 13ms/step - loss: 0.0267 - accuracy: 0.9901 - val_loss: 0.3807 - val_accuracy: 0.9195\n",
            "Epoch 25/100\n",
            "469/469 [==============================] - 6s 13ms/step - loss: 0.0241 - accuracy: 0.9914 - val_loss: 0.4142 - val_accuracy: 0.9130\n",
            "Epoch 26/100\n",
            "469/469 [==============================] - 6s 12ms/step - loss: 0.0272 - accuracy: 0.9895 - val_loss: 0.4355 - val_accuracy: 0.9155\n",
            "Epoch 27/100\n",
            "469/469 [==============================] - 6s 12ms/step - loss: 0.0227 - accuracy: 0.9917 - val_loss: 0.4415 - val_accuracy: 0.9192\n",
            "Epoch 28/100\n",
            "469/469 [==============================] - 6s 12ms/step - loss: 0.0171 - accuracy: 0.9937 - val_loss: 0.4877 - val_accuracy: 0.9134\n",
            "Epoch 29/100\n",
            "469/469 [==============================] - 6s 12ms/step - loss: 0.0196 - accuracy: 0.9928 - val_loss: 0.4519 - val_accuracy: 0.9208\n",
            "Epoch 30/100\n",
            "469/469 [==============================] - 6s 13ms/step - loss: 0.0185 - accuracy: 0.9933 - val_loss: 0.4632 - val_accuracy: 0.9171\n",
            "Epoch 31/100\n",
            "469/469 [==============================] - 6s 13ms/step - loss: 0.0176 - accuracy: 0.9937 - val_loss: 0.4533 - val_accuracy: 0.9162\n",
            "Epoch 32/100\n",
            "469/469 [==============================] - 6s 12ms/step - loss: 0.0208 - accuracy: 0.9923 - val_loss: 0.5088 - val_accuracy: 0.9183\n",
            "Epoch 33/100\n",
            "469/469 [==============================] - 6s 12ms/step - loss: 0.0155 - accuracy: 0.9946 - val_loss: 0.5308 - val_accuracy: 0.9129\n",
            "Epoch 34/100\n",
            "469/469 [==============================] - 6s 13ms/step - loss: 0.0214 - accuracy: 0.9923 - val_loss: 0.4642 - val_accuracy: 0.9170\n",
            "Epoch 35/100\n",
            "469/469 [==============================] - 6s 12ms/step - loss: 0.0153 - accuracy: 0.9949 - val_loss: 0.4932 - val_accuracy: 0.9191\n",
            "Epoch 36/100\n",
            "469/469 [==============================] - 6s 12ms/step - loss: 0.0124 - accuracy: 0.9957 - val_loss: 0.5288 - val_accuracy: 0.9190\n",
            "Epoch 37/100\n",
            "469/469 [==============================] - 6s 13ms/step - loss: 0.0100 - accuracy: 0.9965 - val_loss: 0.5607 - val_accuracy: 0.9206\n",
            "Epoch 38/100\n",
            "469/469 [==============================] - 6s 12ms/step - loss: 0.0146 - accuracy: 0.9951 - val_loss: 0.5717 - val_accuracy: 0.9174\n",
            "Epoch 39/100\n",
            "469/469 [==============================] - 6s 13ms/step - loss: 0.0188 - accuracy: 0.9932 - val_loss: 0.5462 - val_accuracy: 0.9203\n",
            "Epoch 40/100\n",
            "469/469 [==============================] - 6s 12ms/step - loss: 0.0086 - accuracy: 0.9972 - val_loss: 0.5393 - val_accuracy: 0.9212\n",
            "Epoch 41/100\n",
            "469/469 [==============================] - 6s 13ms/step - loss: 0.0102 - accuracy: 0.9963 - val_loss: 0.5793 - val_accuracy: 0.9162\n",
            "Epoch 42/100\n",
            "469/469 [==============================] - 6s 12ms/step - loss: 0.0124 - accuracy: 0.9958 - val_loss: 0.5695 - val_accuracy: 0.9168\n",
            "Epoch 43/100\n",
            "469/469 [==============================] - 6s 13ms/step - loss: 0.0107 - accuracy: 0.9963 - val_loss: 0.5817 - val_accuracy: 0.9157\n",
            "Epoch 44/100\n",
            "469/469 [==============================] - 6s 13ms/step - loss: 0.0142 - accuracy: 0.9949 - val_loss: 0.5273 - val_accuracy: 0.9217\n",
            "Epoch 45/100\n",
            "469/469 [==============================] - 6s 12ms/step - loss: 0.0131 - accuracy: 0.9954 - val_loss: 0.5914 - val_accuracy: 0.9215\n",
            "Epoch 46/100\n",
            "469/469 [==============================] - 6s 12ms/step - loss: 0.0103 - accuracy: 0.9962 - val_loss: 0.5916 - val_accuracy: 0.9167\n",
            "Epoch 47/100\n",
            "469/469 [==============================] - 6s 13ms/step - loss: 0.0096 - accuracy: 0.9966 - val_loss: 0.6410 - val_accuracy: 0.9187\n",
            "Epoch 48/100\n",
            "469/469 [==============================] - 6s 13ms/step - loss: 0.0109 - accuracy: 0.9960 - val_loss: 0.6326 - val_accuracy: 0.9127\n",
            "Epoch 49/100\n",
            "469/469 [==============================] - 6s 12ms/step - loss: 0.0103 - accuracy: 0.9964 - val_loss: 0.6057 - val_accuracy: 0.9198\n",
            "Epoch 50/100\n",
            "469/469 [==============================] - 6s 12ms/step - loss: 0.0081 - accuracy: 0.9971 - val_loss: 0.6111 - val_accuracy: 0.9173\n",
            "Epoch 51/100\n",
            "469/469 [==============================] - 6s 13ms/step - loss: 0.0126 - accuracy: 0.9956 - val_loss: 0.6222 - val_accuracy: 0.9142\n",
            "Epoch 52/100\n",
            "469/469 [==============================] - 6s 12ms/step - loss: 0.0070 - accuracy: 0.9976 - val_loss: 0.6566 - val_accuracy: 0.9177\n",
            "Epoch 53/100\n",
            "469/469 [==============================] - 6s 13ms/step - loss: 0.0018 - accuracy: 0.9995 - val_loss: 0.6661 - val_accuracy: 0.9208\n",
            "Epoch 54/100\n",
            "469/469 [==============================] - 6s 12ms/step - loss: 4.1073e-04 - accuracy: 0.9999 - val_loss: 0.6997 - val_accuracy: 0.9224\n",
            "Epoch 55/100\n",
            "469/469 [==============================] - 6s 12ms/step - loss: 7.2492e-05 - accuracy: 1.0000 - val_loss: 0.7136 - val_accuracy: 0.9215\n",
            "Epoch 56/100\n",
            "469/469 [==============================] - 6s 13ms/step - loss: 2.4629e-05 - accuracy: 1.0000 - val_loss: 0.7231 - val_accuracy: 0.9220\n",
            "Epoch 57/100\n",
            "469/469 [==============================] - 6s 12ms/step - loss: 1.8882e-05 - accuracy: 1.0000 - val_loss: 0.7304 - val_accuracy: 0.9223\n",
            "Epoch 58/100\n",
            "469/469 [==============================] - 6s 12ms/step - loss: 1.5967e-05 - accuracy: 1.0000 - val_loss: 0.7363 - val_accuracy: 0.9223\n",
            "Epoch 59/100\n",
            "469/469 [==============================] - 6s 12ms/step - loss: 1.3973e-05 - accuracy: 1.0000 - val_loss: 0.7416 - val_accuracy: 0.9223\n",
            "Epoch 60/100\n",
            "469/469 [==============================] - 6s 13ms/step - loss: 1.2504e-05 - accuracy: 1.0000 - val_loss: 0.7463 - val_accuracy: 0.9222\n",
            "Epoch 61/100\n",
            "469/469 [==============================] - 6s 12ms/step - loss: 1.1342e-05 - accuracy: 1.0000 - val_loss: 0.7506 - val_accuracy: 0.9223\n",
            "Epoch 62/100\n",
            "469/469 [==============================] - 6s 13ms/step - loss: 1.0375e-05 - accuracy: 1.0000 - val_loss: 0.7544 - val_accuracy: 0.9226\n",
            "Epoch 63/100\n",
            "469/469 [==============================] - 6s 13ms/step - loss: 9.6085e-06 - accuracy: 1.0000 - val_loss: 0.7577 - val_accuracy: 0.9225\n",
            "Epoch 64/100\n",
            "469/469 [==============================] - 6s 12ms/step - loss: 8.9402e-06 - accuracy: 1.0000 - val_loss: 0.7612 - val_accuracy: 0.9226\n",
            "Epoch 65/100\n",
            "469/469 [==============================] - 6s 13ms/step - loss: 8.3777e-06 - accuracy: 1.0000 - val_loss: 0.7643 - val_accuracy: 0.9227\n",
            "Epoch 66/100\n",
            "469/469 [==============================] - 6s 12ms/step - loss: 7.8837e-06 - accuracy: 1.0000 - val_loss: 0.7671 - val_accuracy: 0.9228\n",
            "Epoch 67/100\n",
            "469/469 [==============================] - 6s 13ms/step - loss: 7.4493e-06 - accuracy: 1.0000 - val_loss: 0.7700 - val_accuracy: 0.9230\n",
            "Epoch 68/100\n",
            "469/469 [==============================] - 6s 12ms/step - loss: 7.0636e-06 - accuracy: 1.0000 - val_loss: 0.7727 - val_accuracy: 0.9229\n",
            "Epoch 69/100\n",
            "469/469 [==============================] - 6s 12ms/step - loss: 6.7163e-06 - accuracy: 1.0000 - val_loss: 0.7751 - val_accuracy: 0.9230\n",
            "Epoch 70/100\n",
            "469/469 [==============================] - 6s 12ms/step - loss: 6.4080e-06 - accuracy: 1.0000 - val_loss: 0.7775 - val_accuracy: 0.9228\n",
            "Epoch 71/100\n",
            "469/469 [==============================] - 6s 13ms/step - loss: 6.1254e-06 - accuracy: 1.0000 - val_loss: 0.7798 - val_accuracy: 0.9229\n",
            "Epoch 72/100\n",
            "469/469 [==============================] - 6s 12ms/step - loss: 5.8708e-06 - accuracy: 1.0000 - val_loss: 0.7820 - val_accuracy: 0.9229\n",
            "Epoch 73/100\n",
            "469/469 [==============================] - 6s 13ms/step - loss: 5.6354e-06 - accuracy: 1.0000 - val_loss: 0.7841 - val_accuracy: 0.9229\n",
            "Epoch 74/100\n",
            "469/469 [==============================] - 6s 12ms/step - loss: 5.4190e-06 - accuracy: 1.0000 - val_loss: 0.7861 - val_accuracy: 0.9229\n",
            "Epoch 75/100\n",
            "469/469 [==============================] - 6s 13ms/step - loss: 5.2186e-06 - accuracy: 1.0000 - val_loss: 0.7881 - val_accuracy: 0.9230\n",
            "Epoch 76/100\n",
            "469/469 [==============================] - 6s 12ms/step - loss: 5.0353e-06 - accuracy: 1.0000 - val_loss: 0.7899 - val_accuracy: 0.9231\n",
            "Epoch 77/100\n",
            "469/469 [==============================] - 6s 12ms/step - loss: 4.8643e-06 - accuracy: 1.0000 - val_loss: 0.7917 - val_accuracy: 0.9232\n",
            "Epoch 78/100\n",
            "469/469 [==============================] - 6s 13ms/step - loss: 4.7050e-06 - accuracy: 1.0000 - val_loss: 0.7935 - val_accuracy: 0.9233\n",
            "Epoch 79/100\n",
            "469/469 [==============================] - 6s 12ms/step - loss: 4.5546e-06 - accuracy: 1.0000 - val_loss: 0.7952 - val_accuracy: 0.9232\n",
            "Epoch 80/100\n",
            "469/469 [==============================] - 6s 12ms/step - loss: 4.4141e-06 - accuracy: 1.0000 - val_loss: 0.7968 - val_accuracy: 0.9233\n",
            "Epoch 81/100\n",
            "469/469 [==============================] - 6s 12ms/step - loss: 4.2846e-06 - accuracy: 1.0000 - val_loss: 0.7984 - val_accuracy: 0.9234\n",
            "Epoch 82/100\n",
            "469/469 [==============================] - 6s 13ms/step - loss: 4.1617e-06 - accuracy: 1.0000 - val_loss: 0.7999 - val_accuracy: 0.9234\n",
            "Epoch 83/100\n",
            "469/469 [==============================] - 6s 12ms/step - loss: 4.0459e-06 - accuracy: 1.0000 - val_loss: 0.8014 - val_accuracy: 0.9234\n",
            "Epoch 84/100\n",
            "469/469 [==============================] - 6s 13ms/step - loss: 3.9360e-06 - accuracy: 1.0000 - val_loss: 0.8029 - val_accuracy: 0.9233\n",
            "Epoch 85/100\n",
            "469/469 [==============================] - 6s 12ms/step - loss: 3.8332e-06 - accuracy: 1.0000 - val_loss: 0.8043 - val_accuracy: 0.9233\n",
            "Epoch 86/100\n",
            "469/469 [==============================] - 6s 12ms/step - loss: 3.7348e-06 - accuracy: 1.0000 - val_loss: 0.8057 - val_accuracy: 0.9235\n",
            "Epoch 87/100\n",
            "469/469 [==============================] - 6s 12ms/step - loss: 3.6418e-06 - accuracy: 1.0000 - val_loss: 0.8071 - val_accuracy: 0.9235\n",
            "Epoch 88/100\n",
            "469/469 [==============================] - 6s 13ms/step - loss: 3.5538e-06 - accuracy: 1.0000 - val_loss: 0.8084 - val_accuracy: 0.9236\n"
          ]
        }
      ]
    },
    {
      "cell_type": "code",
      "source": [
        "model.save('fashion_mnis_CNN.h5')"
      ],
      "metadata": {
        "id": "VIs3gpt5d_Fo"
      },
      "execution_count": 6,
      "outputs": []
    },
    {
      "cell_type": "code",
      "source": [
        "score = model.evaluate(x_test,y_test,verbose=0)\n",
        "print('Sai số kiểm tra là: ',score[0])\n",
        "print('Độ chính xác kiểm tra là: ',score[1])\n",
        "plt.plot(history.history['accuracy'])\n",
        "plt.plot(history.history['val_accuracy'])\n",
        "plt.ylabel('accuracy')\n",
        "plt.xlabel('epochs')\n",
        "plt.legend(['train','Validation'])\n",
        "plt.show()"
      ],
      "metadata": {
        "colab": {
          "base_uri": "https://localhost:8080/",
          "height": 314
        },
        "id": "mD57IML0eCso",
        "outputId": "411c17c3-4ad8-448c-9535-a1ef50df455a"
      },
      "execution_count": 7,
      "outputs": [
        {
          "output_type": "stream",
          "name": "stdout",
          "text": [
            "Sai số kiểm tra là:  0.8083686232566833\n",
            "Độ chính xác kiểm tra là:  0.9236000180244446\n"
          ]
        },
        {
          "output_type": "display_data",
          "data": {
            "text/plain": [
              "<Figure size 432x288 with 1 Axes>"
            ],
            "image/png": "[encoded data removed]"
          },
          "metadata": {
            "needs_background": "light"
          }
        }
      ]
    }
  ]
}