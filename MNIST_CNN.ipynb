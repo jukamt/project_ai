{
  "nbformat": 4,
  "nbformat_minor": 0,
  "metadata": {
    "colab": {
      "name": "MNIST_CNN.ipynb",
      "provenance": [],
      "collapsed_sections": [],
      "include_colab_link": true
    },
    "kernelspec": {
      "name": "python3",
      "display_name": "Python 3"
    },
    "language_info": {
      "name": "python"
    },
    "accelerator": "GPU"
  },
  "cells": [
    {
      "cell_type": "markdown",
      "metadata": {
        "id": "view-in-github",
        "colab_type": "text"
      },
      "source": [
        "<a href=\"https://colab.research.google.com/github/jukamt/project_ai/blob/main/MNIST_CNN.ipynb\" target=\"_parent\"><img src=\"https://colab.research.google.com/assets/colab-badge.svg\" alt=\"Open In Colab\"/></a>"
      ]
    },
    {
      "cell_type": "code",
      "execution_count": null,
      "metadata": {
        "id": "KqB7lt72JNNG"
      },
      "outputs": [],
      "source": [
        "import numpy as np\n",
        "import tensorflow as td\n",
        "import matplotlib.pyplot as plt\n",
        "from keras.backend import conv2d\n",
        "from keras.layers.core.dropout import Dropout\n",
        "from keras.utils import np_utils\n",
        "from keras.datasets import mnist\n",
        "from keras.layers import Dense, Dropout\n",
        "from keras.models import Sequential\n",
        "from tensorflow.keras.layers import Conv2D, MaxPooling2D, Flatten\n",
        "from tensorflow.keras.optimizers import RMSprop, SGD\n",
        "from keras.callbacks import EarlyStopping"
      ]
    },
    {
      "cell_type": "code",
      "source": [
        "(x_train, y_train),(x_test, y_test) = mnist.load_data()\n",
        "\n",
        "for i in range(9):\n",
        "  plt.subplot(330+1+i)\n",
        "  plt.imshow(x_train[i],cmap = plt.get_cmap('gray'))\n",
        "plt.show()\n",
        "\n",
        "print('Kích thước x_train: ', x_train.shape)\n",
        "print('Kích thước y_train: ', y_train.shape)\n",
        "print('Kích thước x_test: ', x_test.shape)\n",
        "print('Kích thước y_test: ', y_test.shape)"
      ],
      "metadata": {
        "colab": {
          "base_uri": "https://localhost:8080/",
          "height": 337
        },
        "id": "rryGrbe8L0_v",
        "outputId": "e1cb9e59-1077-4701-e550-cbe45a524456"
      },
      "execution_count": null,
      "outputs": [
        {
          "output_type": "display_data",
          "data": {
            "text/plain": [
              "<Figure size 432x288 with 9 Axes>"
            ],
            "image/png": "[encoded data removed]"
          },
          "metadata": {
            "needs_background": "light"
          }
        },
        {
          "output_type": "stream",
          "name": "stdout",
          "text": [
            "Kích thước x_train:  (60000, 28, 28)\n",
            "Kích thước y_train:  (60000,)\n",
            "Kích thước x_test:  (10000, 28, 28)\n",
            "Kích thước y_test:  (10000,)\n"
          ]
        }
      ]
    },
    {
      "cell_type": "code",
      "source": [
        "#chuẩn hoá\n",
        "x_train = x_train.astype('float32')\n",
        "x_test = x_test.astype('float32')\n",
        "\n",
        "x_train = x_train/255\n",
        "x_test = x_test/255\n",
        "\n",
        "y_train = np_utils.to_categorical(y_train,100)\n",
        "y_test = np_utils.to_categorical(y_test,100)\n",
        "print('Kích thước x_train: ', x_train.shape)\n",
        "print('Kích thước y_train: ', y_train.shape)\n",
        "print('Kích thước x_test: ', x_test.shape)\n",
        "print('Kích thước y_test: ', y_test.shape)"
      ],
      "metadata": {
        "id": "2bZjfOHjL2w-",
        "colab": {
          "base_uri": "https://localhost:8080/"
        },
        "outputId": "b4b9d411-c60d-49c0-b91e-413ce4df72cf"
      },
      "execution_count": null,
      "outputs": [
        {
          "output_type": "stream",
          "name": "stdout",
          "text": [
            "Kích thước x_train:  (60000, 28, 28)\n",
            "Kích thước y_train:  (60000, 100)\n",
            "Kích thước x_test:  (10000, 28, 28)\n",
            "Kích thước y_test:  (10000, 100)\n"
          ]
        }
      ]
    },
    {
      "cell_type": "code",
      "source": [
        "#tạo mô hình CNN\n",
        "model = Sequential()\n",
        "\n",
        "model.add(Conv2D(32,(3,3),activation='relu',kernel_initializer = 'he_uniform',padding='same',input_shape=(28,28,1)))\n",
        "model.add(Conv2D(32,(3,3), activation='relu',kernel_initializer = 'he_uniform',padding = 'same'))\n",
        "model.add(MaxPooling2D((2,2)))\n",
        "\n",
        "model.add(Conv2D(64,(3,3), activation='relu',kernel_initializer = 'he_uniform',padding = 'same',input_shape=(28,28,1)))\n",
        "model.add(Conv2D(64,(3,3), activation='relu',kernel_initializer = 'he_uniform',padding = 'same'))\n",
        "model.add(MaxPooling2D((2,2)))\n",
        "\n",
        "model.add(Conv2D(128,(3,3), activation='relu',kernel_initializer = 'he_uniform',padding = 'same',input_shape=(28,28,1)))\n",
        "model.add(Conv2D(128,(3,3), activation='relu',kernel_initializer = 'he_uniform',padding = 'same'))\n",
        "model.add(MaxPooling2D((2,2)))\n",
        "\n",
        "model.add(Flatten())\n",
        "model.add(Dense(128,activation='relu',kernel_initializer = 'he_uniform'))\n",
        "model.add(Dense(100,activation='softmax'))\n",
        "model.summary()"
      ],
      "metadata": {
        "colab": {
          "base_uri": "https://localhost:8080/"
        },
        "id": "8YQzcODVMUju",
        "outputId": "625a1ca8-6f66-4163-bf2a-52992446db1e"
      },
      "execution_count": null,
      "outputs": [
        {
          "output_type": "stream",
          "name": "stdout",
          "text": [
            "Model: \"sequential_13\"\n",
            "_________________________________________________________________\n",
            " Layer (type)                Output Shape              Param #   \n",
            "=================================================================\n",
            " conv2d_78 (Conv2D)          (None, 28, 28, 32)        320       \n",
            "                                                                 \n",
            " conv2d_79 (Conv2D)          (None, 28, 28, 32)        9248      \n",
            "                                                                 \n",
            " max_pooling2d_39 (MaxPoolin  (None, 14, 14, 32)       0         \n",
            " g2D)                                                            \n",
            "                                                                 \n",
            " conv2d_80 (Conv2D)          (None, 14, 14, 64)        18496     \n",
            "                                                                 \n",
            " conv2d_81 (Conv2D)          (None, 14, 14, 64)        36928     \n",
            "                                                                 \n",
            " max_pooling2d_40 (MaxPoolin  (None, 7, 7, 64)         0         \n",
            " g2D)                                                            \n",
            "                                                                 \n",
            " conv2d_82 (Conv2D)          (None, 7, 7, 128)         73856     \n",
            "                                                                 \n",
            " conv2d_83 (Conv2D)          (None, 7, 7, 128)         147584    \n",
            "                                                                 \n",
            " max_pooling2d_41 (MaxPoolin  (None, 3, 3, 128)        0         \n",
            " g2D)                                                            \n",
            "                                                                 \n",
            " flatten_13 (Flatten)        (None, 1152)              0         \n",
            "                                                                 \n",
            " dense_33 (Dense)            (None, 128)               147584    \n",
            "                                                                 \n",
            " dense_34 (Dense)            (None, 100)               12900     \n",
            "                                                                 \n",
            "=================================================================\n",
            "Total params: 446,916\n",
            "Trainable params: 446,916\n",
            "Non-trainable params: 0\n",
            "_________________________________________________________________\n"
          ]
        }
      ]
    },
    {
      "cell_type": "code",
      "source": [
        "opt = SGD(lr=0.01, momentum = 0.9)\n",
        "model.compile(optimizer=opt, loss='categorical_crossentropy', metrics=['accuracy'])\n",
        "history = model.fit(x_train, y_train, epochs=100, batch_size=128, validation_data=(x_test, y_test), verbose=1, callbacks=[EarlyStopping(monitor='val_loss',patience=50)])"
      ],
      "metadata": {
        "colab": {
          "base_uri": "https://localhost:8080/"
        },
        "id": "IbsEUBkRNyAb",
        "outputId": "90bc20ab-2a57-4f65-e832-830825e72450"
      },
      "execution_count": null,
      "outputs": [
        {
          "output_type": "stream",
          "name": "stdout",
          "text": [
            "Epoch 1/100\n"
          ]
        },
        {
          "output_type": "stream",
          "name": "stderr",
          "text": [
            "/usr/local/lib/python3.7/dist-packages/keras/optimizer_v2/gradient_descent.py:102: UserWarning: The `lr` argument is deprecated, use `learning_rate` instead.\n",
            "  super(SGD, self).__init__(name, **kwargs)\n"
          ]
        },
        {
          "output_type": "stream",
          "name": "stdout",
          "text": [
            "469/469 [==============================] - 7s 13ms/step - loss: 0.2647 - accuracy: 0.9198 - val_loss: 0.0550 - val_accuracy: 0.9827\n",
            "Epoch 2/100\n",
            "469/469 [==============================] - 6s 12ms/step - loss: 0.0477 - accuracy: 0.9857 - val_loss: 0.0334 - val_accuracy: 0.9883\n",
            "Epoch 3/100\n",
            "469/469 [==============================] - 6s 13ms/step - loss: 0.0314 - accuracy: 0.9902 - val_loss: 0.0329 - val_accuracy: 0.9894\n",
            "Epoch 4/100\n",
            "469/469 [==============================] - 6s 13ms/step - loss: 0.0219 - accuracy: 0.9929 - val_loss: 0.0253 - val_accuracy: 0.9912\n",
            "Epoch 5/100\n",
            "469/469 [==============================] - 6s 12ms/step - loss: 0.0158 - accuracy: 0.9950 - val_loss: 0.0235 - val_accuracy: 0.9924\n",
            "Epoch 6/100\n",
            "469/469 [==============================] - 6s 12ms/step - loss: 0.0118 - accuracy: 0.9965 - val_loss: 0.0310 - val_accuracy: 0.9896\n",
            "Epoch 7/100\n",
            "469/469 [==============================] - 6s 12ms/step - loss: 0.0092 - accuracy: 0.9970 - val_loss: 0.0276 - val_accuracy: 0.9915\n",
            "Epoch 8/100\n",
            "469/469 [==============================] - 6s 13ms/step - loss: 0.0067 - accuracy: 0.9980 - val_loss: 0.0239 - val_accuracy: 0.9925\n",
            "Epoch 9/100\n",
            "469/469 [==============================] - 8s 16ms/step - loss: 0.0063 - accuracy: 0.9979 - val_loss: 0.0232 - val_accuracy: 0.9926\n",
            "Epoch 10/100\n",
            "469/469 [==============================] - 7s 14ms/step - loss: 0.0027 - accuracy: 0.9992 - val_loss: 0.0246 - val_accuracy: 0.9930\n",
            "Epoch 11/100\n",
            "469/469 [==============================] - 6s 13ms/step - loss: 0.0025 - accuracy: 0.9993 - val_loss: 0.0297 - val_accuracy: 0.9924\n",
            "Epoch 12/100\n",
            "469/469 [==============================] - 6s 12ms/step - loss: 0.0037 - accuracy: 0.9987 - val_loss: 0.0226 - val_accuracy: 0.9946\n",
            "Epoch 13/100\n",
            "469/469 [==============================] - 6s 12ms/step - loss: 0.0026 - accuracy: 0.9991 - val_loss: 0.0331 - val_accuracy: 0.9908\n",
            "Epoch 14/100\n",
            "469/469 [==============================] - 6s 13ms/step - loss: 0.0027 - accuracy: 0.9992 - val_loss: 0.0422 - val_accuracy: 0.9893\n",
            "Epoch 15/100\n",
            "469/469 [==============================] - 6s 13ms/step - loss: 0.0027 - accuracy: 0.9992 - val_loss: 0.0292 - val_accuracy: 0.9922\n",
            "Epoch 16/100\n",
            "469/469 [==============================] - 7s 14ms/step - loss: 0.0011 - accuracy: 0.9997 - val_loss: 0.0223 - val_accuracy: 0.9940\n",
            "Epoch 17/100\n",
            "469/469 [==============================] - 6s 12ms/step - loss: 6.4151e-04 - accuracy: 0.9998 - val_loss: 0.0322 - val_accuracy: 0.9926\n",
            "Epoch 18/100\n",
            "469/469 [==============================] - 6s 12ms/step - loss: 0.0010 - accuracy: 0.9997 - val_loss: 0.0229 - val_accuracy: 0.9941\n",
            "Epoch 19/100\n",
            "469/469 [==============================] - 6s 12ms/step - loss: 1.7757e-04 - accuracy: 0.9999 - val_loss: 0.0234 - val_accuracy: 0.9942\n",
            "Epoch 20/100\n",
            "469/469 [==============================] - 6s 12ms/step - loss: 5.2486e-05 - accuracy: 1.0000 - val_loss: 0.0237 - val_accuracy: 0.9941\n",
            "Epoch 21/100\n",
            "469/469 [==============================] - 6s 13ms/step - loss: 3.5659e-05 - accuracy: 1.0000 - val_loss: 0.0243 - val_accuracy: 0.9941\n",
            "Epoch 22/100\n",
            "469/469 [==============================] - 6s 13ms/step - loss: 2.8888e-05 - accuracy: 1.0000 - val_loss: 0.0247 - val_accuracy: 0.9942\n",
            "Epoch 23/100\n",
            "469/469 [==============================] - 6s 13ms/step - loss: 2.4668e-05 - accuracy: 1.0000 - val_loss: 0.0250 - val_accuracy: 0.9944\n",
            "Epoch 24/100\n",
            "469/469 [==============================] - 6s 12ms/step - loss: 2.1610e-05 - accuracy: 1.0000 - val_loss: 0.0253 - val_accuracy: 0.9944\n",
            "Epoch 25/100\n",
            "469/469 [==============================] - 6s 13ms/step - loss: 1.9283e-05 - accuracy: 1.0000 - val_loss: 0.0256 - val_accuracy: 0.9943\n",
            "Epoch 26/100\n",
            "469/469 [==============================] - 6s 13ms/step - loss: 1.7495e-05 - accuracy: 1.0000 - val_loss: 0.0258 - val_accuracy: 0.9942\n",
            "Epoch 27/100\n",
            "469/469 [==============================] - 7s 14ms/step - loss: 1.6046e-05 - accuracy: 1.0000 - val_loss: 0.0260 - val_accuracy: 0.9943\n",
            "Epoch 28/100\n",
            "469/469 [==============================] - 6s 13ms/step - loss: 1.4775e-05 - accuracy: 1.0000 - val_loss: 0.0262 - val_accuracy: 0.9943\n",
            "Epoch 29/100\n",
            "469/469 [==============================] - 6s 12ms/step - loss: 1.3727e-05 - accuracy: 1.0000 - val_loss: 0.0264 - val_accuracy: 0.9944\n",
            "Epoch 30/100\n",
            "469/469 [==============================] - 6s 12ms/step - loss: 1.2837e-05 - accuracy: 1.0000 - val_loss: 0.0266 - val_accuracy: 0.9944\n",
            "Epoch 31/100\n",
            "469/469 [==============================] - 6s 12ms/step - loss: 1.2044e-05 - accuracy: 1.0000 - val_loss: 0.0267 - val_accuracy: 0.9944\n",
            "Epoch 32/100\n",
            "469/469 [==============================] - 6s 13ms/step - loss: 1.1312e-05 - accuracy: 1.0000 - val_loss: 0.0269 - val_accuracy: 0.9944\n",
            "Epoch 33/100\n",
            "469/469 [==============================] - 6s 13ms/step - loss: 1.0669e-05 - accuracy: 1.0000 - val_loss: 0.0270 - val_accuracy: 0.9945\n",
            "Epoch 34/100\n",
            "469/469 [==============================] - 6s 13ms/step - loss: 1.0130e-05 - accuracy: 1.0000 - val_loss: 0.0271 - val_accuracy: 0.9946\n",
            "Epoch 35/100\n",
            "469/469 [==============================] - 6s 13ms/step - loss: 9.6484e-06 - accuracy: 1.0000 - val_loss: 0.0273 - val_accuracy: 0.9946\n",
            "Epoch 36/100\n",
            "469/469 [==============================] - 6s 13ms/step - loss: 9.2318e-06 - accuracy: 1.0000 - val_loss: 0.0274 - val_accuracy: 0.9946\n",
            "Epoch 37/100\n",
            "469/469 [==============================] - 6s 13ms/step - loss: 8.7795e-06 - accuracy: 1.0000 - val_loss: 0.0275 - val_accuracy: 0.9946\n",
            "Epoch 38/100\n",
            "469/469 [==============================] - 6s 13ms/step - loss: 8.4324e-06 - accuracy: 1.0000 - val_loss: 0.0276 - val_accuracy: 0.9946\n",
            "Epoch 39/100\n",
            "469/469 [==============================] - 6s 13ms/step - loss: 8.0438e-06 - accuracy: 1.0000 - val_loss: 0.0277 - val_accuracy: 0.9946\n",
            "Epoch 40/100\n",
            "469/469 [==============================] - 6s 13ms/step - loss: 7.7798e-06 - accuracy: 1.0000 - val_loss: 0.0278 - val_accuracy: 0.9946\n",
            "Epoch 41/100\n",
            "469/469 [==============================] - 6s 12ms/step - loss: 7.4842e-06 - accuracy: 1.0000 - val_loss: 0.0279 - val_accuracy: 0.9946\n",
            "Epoch 42/100\n",
            "469/469 [==============================] - 6s 13ms/step - loss: 7.2109e-06 - accuracy: 1.0000 - val_loss: 0.0280 - val_accuracy: 0.9945\n",
            "Epoch 43/100\n",
            "469/469 [==============================] - 6s 12ms/step - loss: 6.9498e-06 - accuracy: 1.0000 - val_loss: 0.0281 - val_accuracy: 0.9945\n",
            "Epoch 44/100\n",
            "469/469 [==============================] - 6s 13ms/step - loss: 6.7373e-06 - accuracy: 1.0000 - val_loss: 0.0282 - val_accuracy: 0.9945\n",
            "Epoch 45/100\n",
            "469/469 [==============================] - 6s 12ms/step - loss: 6.4900e-06 - accuracy: 1.0000 - val_loss: 0.0283 - val_accuracy: 0.9945\n",
            "Epoch 46/100\n",
            "469/469 [==============================] - 6s 12ms/step - loss: 6.2927e-06 - accuracy: 1.0000 - val_loss: 0.0284 - val_accuracy: 0.9945\n",
            "Epoch 47/100\n",
            "469/469 [==============================] - 6s 12ms/step - loss: 6.0833e-06 - accuracy: 1.0000 - val_loss: 0.0285 - val_accuracy: 0.9945\n",
            "Epoch 48/100\n",
            "469/469 [==============================] - 6s 13ms/step - loss: 5.9140e-06 - accuracy: 1.0000 - val_loss: 0.0285 - val_accuracy: 0.9945\n",
            "Epoch 49/100\n",
            "469/469 [==============================] - 6s 13ms/step - loss: 5.7302e-06 - accuracy: 1.0000 - val_loss: 0.0286 - val_accuracy: 0.9945\n",
            "Epoch 50/100\n",
            "469/469 [==============================] - 6s 13ms/step - loss: 5.5884e-06 - accuracy: 1.0000 - val_loss: 0.0287 - val_accuracy: 0.9945\n",
            "Epoch 51/100\n",
            "469/469 [==============================] - 6s 12ms/step - loss: 5.4268e-06 - accuracy: 1.0000 - val_loss: 0.0288 - val_accuracy: 0.9945\n",
            "Epoch 52/100\n",
            "469/469 [==============================] - 6s 13ms/step - loss: 5.2586e-06 - accuracy: 1.0000 - val_loss: 0.0288 - val_accuracy: 0.9945\n",
            "Epoch 53/100\n",
            "469/469 [==============================] - 6s 13ms/step - loss: 5.1248e-06 - accuracy: 1.0000 - val_loss: 0.0289 - val_accuracy: 0.9945\n",
            "Epoch 54/100\n",
            "469/469 [==============================] - 6s 13ms/step - loss: 5.0000e-06 - accuracy: 1.0000 - val_loss: 0.0290 - val_accuracy: 0.9945\n",
            "Epoch 55/100\n",
            "469/469 [==============================] - 6s 13ms/step - loss: 4.8774e-06 - accuracy: 1.0000 - val_loss: 0.0290 - val_accuracy: 0.9944\n",
            "Epoch 56/100\n",
            "469/469 [==============================] - 8s 16ms/step - loss: 4.7535e-06 - accuracy: 1.0000 - val_loss: 0.0291 - val_accuracy: 0.9944\n",
            "Epoch 57/100\n",
            "469/469 [==============================] - 6s 13ms/step - loss: 4.6482e-06 - accuracy: 1.0000 - val_loss: 0.0292 - val_accuracy: 0.9944\n",
            "Epoch 58/100\n",
            "469/469 [==============================] - 6s 13ms/step - loss: 4.5308e-06 - accuracy: 1.0000 - val_loss: 0.0292 - val_accuracy: 0.9945\n",
            "Epoch 59/100\n",
            "469/469 [==============================] - 6s 13ms/step - loss: 4.4291e-06 - accuracy: 1.0000 - val_loss: 0.0293 - val_accuracy: 0.9944\n",
            "Epoch 60/100\n",
            "469/469 [==============================] - 6s 13ms/step - loss: 4.3371e-06 - accuracy: 1.0000 - val_loss: 0.0293 - val_accuracy: 0.9945\n",
            "Epoch 61/100\n",
            "469/469 [==============================] - 6s 13ms/step - loss: 4.2426e-06 - accuracy: 1.0000 - val_loss: 0.0294 - val_accuracy: 0.9944\n",
            "Epoch 62/100\n",
            "469/469 [==============================] - 6s 13ms/step - loss: 4.1485e-06 - accuracy: 1.0000 - val_loss: 0.0295 - val_accuracy: 0.9944\n",
            "Epoch 63/100\n",
            "469/469 [==============================] - 6s 13ms/step - loss: 4.0664e-06 - accuracy: 1.0000 - val_loss: 0.0295 - val_accuracy: 0.9944\n",
            "Epoch 64/100\n",
            "469/469 [==============================] - 6s 13ms/step - loss: 3.9825e-06 - accuracy: 1.0000 - val_loss: 0.0296 - val_accuracy: 0.9944\n",
            "Epoch 65/100\n",
            "469/469 [==============================] - 6s 13ms/step - loss: 3.9111e-06 - accuracy: 1.0000 - val_loss: 0.0296 - val_accuracy: 0.9943\n",
            "Epoch 66/100\n",
            "469/469 [==============================] - 6s 13ms/step - loss: 3.8256e-06 - accuracy: 1.0000 - val_loss: 0.0297 - val_accuracy: 0.9944\n"
          ]
        }
      ]
    },
    {
      "cell_type": "code",
      "source": [
        "model.save('MNIST_CNN.h5')"
      ],
      "metadata": {
        "id": "xdOdQkLJSJOV"
      },
      "execution_count": null,
      "outputs": []
    },
    {
      "cell_type": "code",
      "source": [
        "score = model.evaluate(x_test,y_test,verbose=0)\n",
        "print('Sai số kiểm tra là: ',score[0])\n",
        "print('Độ chính xác kiểm tra là: ',score[1])\n",
        "plt.plot(history.history['accuracy'])\n",
        "plt.plot(history.history['val_accuracy'])\n",
        "plt.ylabel('accuracy')\n",
        "plt.xlabel('epochs')\n",
        "plt.legend(['train','Validation'])\n",
        "plt.show()"
      ],
      "metadata": {
        "colab": {
          "base_uri": "https://localhost:8080/",
          "height": 314
        },
        "id": "jVD1AV9iSUTj",
        "outputId": "68c7eb89-fd8a-4138-93a0-4a2c79a36e79"
      },
      "execution_count": null,
      "outputs": [
        {
          "output_type": "stream",
          "name": "stdout",
          "text": [
            "Sai số kiểm tra là:  0.029678398743271828\n",
            "Độ chính xác kiểm tra là:  0.9944000244140625\n"
          ]
        },
        {
          "output_type": "display_data",
          "data": {
            "text/plain": [
              "<Figure size 432x288 with 1 Axes>"
            ],
            "image/png": "[encoded data removed]"
          },
          "metadata": {
            "needs_background": "light"
          }
        }
      ]
    }
  ]
}