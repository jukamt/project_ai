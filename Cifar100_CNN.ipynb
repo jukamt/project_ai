{
  "nbformat": 4,
  "nbformat_minor": 0,
  "metadata": {
    "colab": {
      "name": "Cifar100_CNN.ipynb",
      "provenance": [],
      "collapsed_sections": [],
      "include_colab_link": true
    },
    "kernelspec": {
      "name": "python3",
      "display_name": "Python 3"
    },
    "language_info": {
      "name": "python"
    },
    "accelerator": "GPU"
  },
  "cells": [
    {
      "cell_type": "markdown",
      "metadata": {
        "id": "view-in-github",
        "colab_type": "text"
      },
      "source": [
        "<a href=\"https://colab.research.google.com/github/jukamt/project_ai/blob/main/Cifar100_CNN.ipynb\" target=\"_parent\"><img src=\"https://colab.research.google.com/assets/colab-badge.svg\" alt=\"Open In Colab\"/></a>"
      ]
    },
    {
      "cell_type": "code",
      "execution_count": null,
      "metadata": {
        "id": "3NG8sBRGSW_4"
      },
      "outputs": [],
      "source": [
        "import numpy as np\n",
        "import tensorflow as td\n",
        "import matplotlib.pyplot as plt\n",
        "from keras.backend import conv2d\n",
        "from keras.layers.core.dropout import Dropout\n",
        "from keras.utils import np_utils\n",
        "from keras.datasets import cifar100\n",
        "from keras.layers import Dense, Dropout\n",
        "from keras.models import Sequential\n",
        "from tensorflow.keras.layers import Conv2D, MaxPooling2D, Flatten\n",
        "from tensorflow.keras.optimizers import RMSprop, SGD\n",
        "from keras.callbacks import EarlyStopping"
      ]
    },
    {
      "cell_type": "code",
      "source": [
        "(x_train, y_train),(x_test,y_test) = cifar100.load_data()\n",
        "print('Kích thước x_train: ', x_train.shape)\n",
        "print('Kích thước y_train: ', y_train.shape)\n",
        "print('Kích thước x_test: ', x_test.shape)\n",
        "print('Kích thước y_test: ', y_test.shape)"
      ],
      "metadata": {
        "colab": {
          "base_uri": "https://localhost:8080/"
        },
        "id": "mXo7qGfhTDvr",
        "outputId": "0d35271b-371c-4754-88e7-0f5247ad09c2"
      },
      "execution_count": null,
      "outputs": [
        {
          "output_type": "stream",
          "name": "stdout",
          "text": [
            "Downloading data from https://www.cs.toronto.edu/~kriz/cifar-100-python.tar.gz\n",
            "169009152/169001437 [==============================] - 2s 0us/step\n",
            "169017344/169001437 [==============================] - 2s 0us/step\n",
            "Kích thước x_train:  (50000, 32, 32, 3)\n",
            "Kích thước y_train:  (50000, 1)\n",
            "Kích thước x_test:  (10000, 32, 32, 3)\n",
            "Kích thước y_test:  (10000, 1)\n"
          ]
        }
      ]
    },
    {
      "cell_type": "code",
      "source": [
        "#chuẩn hoá dữ liệu\n",
        "x_train = x_train.astype('float32')\n",
        "x_test = x_test.astype('float32')\n",
        "x_train/=255\n",
        "x_test/=255\n",
        "y_train = np_utils.to_categorical(y_train,100)\n",
        "y_test = np_utils.to_categorical(y_test,100)\n",
        "print('Kích thước x_train: ', x_train.shape)\n",
        "print('Kích thước y_train: ', y_train.shape)\n",
        "print('Kích thước x_test: ', x_test.shape)\n",
        "print('Kích thước y_test: ', y_test.shape)"
      ],
      "metadata": {
        "colab": {
          "base_uri": "https://localhost:8080/"
        },
        "id": "VRAgvlhaTTuy",
        "outputId": "d2e09416-a55a-48f1-ead7-98b0f450a09e"
      },
      "execution_count": null,
      "outputs": [
        {
          "output_type": "stream",
          "name": "stdout",
          "text": [
            "Kích thước x_train:  (50000, 32, 32, 3)\n",
            "Kích thước y_train:  (50000, 100)\n",
            "Kích thước x_test:  (10000, 32, 32, 3)\n",
            "Kích thước y_test:  (10000, 100)\n"
          ]
        }
      ]
    },
    {
      "cell_type": "code",
      "source": [
        "#tạo mô hình CNN\n",
        "model = Sequential()\n",
        "\n",
        "model.add(Conv2D(32,(3,3),activation='relu',kernel_initializer = 'he_uniform',padding='same',input_shape=(32,32,3)))\n",
        "model.add(Conv2D(32,(3,3), activation='relu',kernel_initializer = 'he_uniform',padding = 'same'))\n",
        "model.add(MaxPooling2D((2,2)))\n",
        "\n",
        "model.add(Conv2D(64,(3,3), activation='relu',kernel_initializer = 'he_uniform',padding = 'same',input_shape=(32,32,3)))\n",
        "model.add(Conv2D(64,(3,3), activation='relu',kernel_initializer = 'he_uniform',padding = 'same'))\n",
        "model.add(MaxPooling2D((2,2)))\n",
        "\n",
        "model.add(Conv2D(128,(3,3), activation='relu',kernel_initializer = 'he_uniform',padding = 'same',input_shape=(32,32,3)))\n",
        "model.add(Conv2D(128,(3,3), activation='relu',kernel_initializer = 'he_uniform',padding = 'same'))\n",
        "model.add(MaxPooling2D((2,2)))\n",
        "\n",
        "model.add(Flatten())\n",
        "model.add(Dense(256,activation='relu',kernel_initializer = 'he_uniform'))\n",
        "model.add(Dense(128,activation='relu',kernel_initializer = 'he_uniform'))\n",
        "model.add(Dense(100,activation='softmax'))\n",
        "model.summary()"
      ],
      "metadata": {
        "colab": {
          "base_uri": "https://localhost:8080/"
        },
        "id": "8rrt5BGOTmNJ",
        "outputId": "a6946cec-55bd-42ac-8319-4ad5bec396b7"
      },
      "execution_count": null,
      "outputs": [
        {
          "output_type": "stream",
          "name": "stdout",
          "text": [
            "Model: \"sequential_1\"\n",
            "_________________________________________________________________\n",
            " Layer (type)                Output Shape              Param #   \n",
            "=================================================================\n",
            " conv2d_6 (Conv2D)           (None, 32, 32, 32)        896       \n",
            "                                                                 \n",
            " conv2d_7 (Conv2D)           (None, 32, 32, 32)        9248      \n",
            "                                                                 \n",
            " max_pooling2d_3 (MaxPooling  (None, 16, 16, 32)       0         \n",
            " 2D)                                                             \n",
            "                                                                 \n",
            " conv2d_8 (Conv2D)           (None, 16, 16, 64)        18496     \n",
            "                                                                 \n",
            " conv2d_9 (Conv2D)           (None, 16, 16, 64)        36928     \n",
            "                                                                 \n",
            " max_pooling2d_4 (MaxPooling  (None, 8, 8, 64)         0         \n",
            " 2D)                                                             \n",
            "                                                                 \n",
            " conv2d_10 (Conv2D)          (None, 8, 8, 128)         73856     \n",
            "                                                                 \n",
            " conv2d_11 (Conv2D)          (None, 8, 8, 128)         147584    \n",
            "                                                                 \n",
            " max_pooling2d_5 (MaxPooling  (None, 4, 4, 128)        0         \n",
            " 2D)                                                             \n",
            "                                                                 \n",
            " flatten_1 (Flatten)         (None, 2048)              0         \n",
            "                                                                 \n",
            " dense_2 (Dense)             (None, 256)               524544    \n",
            "                                                                 \n",
            " dense_3 (Dense)             (None, 128)               32896     \n",
            "                                                                 \n",
            " dense_4 (Dense)             (None, 100)               12900     \n",
            "                                                                 \n",
            "=================================================================\n",
            "Total params: 857,348\n",
            "Trainable params: 857,348\n",
            "Non-trainable params: 0\n",
            "_________________________________________________________________\n"
          ]
        }
      ]
    },
    {
      "cell_type": "code",
      "source": [
        "#complie model\n",
        "opt = SGD(learning_rate=0.01, momentum=0.9)\n",
        "model.compile(optimizer=opt, loss='categorical_crossentropy', metrics=['accuracy'])\n",
        "history = model.fit(x_train, y_train, epochs=100, batch_size=128, validation_data=(x_test, y_test), verbose=1, callbacks=[EarlyStopping(monitor='val_loss',patience=50)])"
      ],
      "metadata": {
        "colab": {
          "base_uri": "https://localhost:8080/"
        },
        "id": "aesY_551UZRJ",
        "outputId": "fee3b205-2d15-47bc-e987-79f5b40d4572"
      },
      "execution_count": null,
      "outputs": [
        {
          "output_type": "stream",
          "name": "stdout",
          "text": [
            "Epoch 1/100\n",
            "391/391 [==============================] - 16s 16ms/step - loss: 4.2208 - accuracy: 0.0591 - val_loss: 3.8032 - val_accuracy: 0.1264\n",
            "Epoch 2/100\n",
            "391/391 [==============================] - 5s 13ms/step - loss: 3.5172 - accuracy: 0.1663 - val_loss: 3.2912 - val_accuracy: 0.2041\n",
            "Epoch 3/100\n",
            "391/391 [==============================] - 5s 14ms/step - loss: 3.1056 - accuracy: 0.2368 - val_loss: 2.9790 - val_accuracy: 0.2703\n",
            "Epoch 4/100\n",
            "391/391 [==============================] - 6s 14ms/step - loss: 2.7886 - accuracy: 0.3000 - val_loss: 2.7442 - val_accuracy: 0.3118\n",
            "Epoch 5/100\n",
            "391/391 [==============================] - 6s 14ms/step - loss: 2.5091 - accuracy: 0.3554 - val_loss: 2.6040 - val_accuracy: 0.3451\n",
            "Epoch 6/100\n",
            "391/391 [==============================] - 5s 14ms/step - loss: 2.2921 - accuracy: 0.4011 - val_loss: 2.5054 - val_accuracy: 0.3637\n",
            "Epoch 7/100\n",
            "391/391 [==============================] - 5s 14ms/step - loss: 2.0778 - accuracy: 0.4469 - val_loss: 2.4787 - val_accuracy: 0.3756\n",
            "Epoch 8/100\n",
            "391/391 [==============================] - 6s 14ms/step - loss: 1.8884 - accuracy: 0.4892 - val_loss: 2.4603 - val_accuracy: 0.3889\n",
            "Epoch 9/100\n",
            "391/391 [==============================] - 7s 17ms/step - loss: 1.6867 - accuracy: 0.5363 - val_loss: 2.4458 - val_accuracy: 0.3992\n",
            "Epoch 10/100\n",
            "391/391 [==============================] - 7s 17ms/step - loss: 1.5264 - accuracy: 0.5699 - val_loss: 2.4834 - val_accuracy: 0.4020\n",
            "Epoch 11/100\n",
            "391/391 [==============================] - 6s 14ms/step - loss: 1.3655 - accuracy: 0.6120 - val_loss: 2.5472 - val_accuracy: 0.3970\n",
            "Epoch 12/100\n",
            "391/391 [==============================] - 5s 14ms/step - loss: 1.2031 - accuracy: 0.6478 - val_loss: 2.6529 - val_accuracy: 0.3999\n",
            "Epoch 13/100\n",
            "391/391 [==============================] - 6s 16ms/step - loss: 1.0547 - accuracy: 0.6862 - val_loss: 2.8562 - val_accuracy: 0.4075\n",
            "Epoch 14/100\n",
            "391/391 [==============================] - 6s 14ms/step - loss: 0.9495 - accuracy: 0.7151 - val_loss: 2.9816 - val_accuracy: 0.4010\n",
            "Epoch 15/100\n",
            "391/391 [==============================] - 5s 14ms/step - loss: 0.8475 - accuracy: 0.7411 - val_loss: 3.2227 - val_accuracy: 0.3863\n",
            "Epoch 16/100\n",
            "391/391 [==============================] - 6s 14ms/step - loss: 0.7789 - accuracy: 0.7610 - val_loss: 3.2421 - val_accuracy: 0.3801\n",
            "Epoch 17/100\n",
            "391/391 [==============================] - 5s 14ms/step - loss: 0.7086 - accuracy: 0.7813 - val_loss: 3.4039 - val_accuracy: 0.3834\n",
            "Epoch 18/100\n",
            "391/391 [==============================] - 5s 14ms/step - loss: 0.6449 - accuracy: 0.7993 - val_loss: 3.4279 - val_accuracy: 0.3851\n",
            "Epoch 19/100\n",
            "391/391 [==============================] - 5s 14ms/step - loss: 0.5863 - accuracy: 0.8158 - val_loss: 3.8177 - val_accuracy: 0.3836\n",
            "Epoch 20/100\n",
            "391/391 [==============================] - 6s 14ms/step - loss: 0.5914 - accuracy: 0.8131 - val_loss: 3.6917 - val_accuracy: 0.3877\n",
            "Epoch 21/100\n",
            "391/391 [==============================] - 6s 14ms/step - loss: 0.5353 - accuracy: 0.8323 - val_loss: 3.7959 - val_accuracy: 0.3739\n",
            "Epoch 22/100\n",
            "391/391 [==============================] - 5s 14ms/step - loss: 0.4958 - accuracy: 0.8463 - val_loss: 4.1714 - val_accuracy: 0.3719\n",
            "Epoch 23/100\n",
            "391/391 [==============================] - 5s 14ms/step - loss: 0.4718 - accuracy: 0.8513 - val_loss: 4.1831 - val_accuracy: 0.3692\n",
            "Epoch 24/100\n",
            "391/391 [==============================] - 5s 14ms/step - loss: 0.4500 - accuracy: 0.8582 - val_loss: 4.3777 - val_accuracy: 0.3701\n",
            "Epoch 25/100\n",
            "391/391 [==============================] - 5s 14ms/step - loss: 0.4543 - accuracy: 0.8574 - val_loss: 4.4708 - val_accuracy: 0.3773\n",
            "Epoch 26/100\n",
            "391/391 [==============================] - 5s 14ms/step - loss: 0.4337 - accuracy: 0.8655 - val_loss: 4.8300 - val_accuracy: 0.3682\n",
            "Epoch 27/100\n",
            "391/391 [==============================] - 6s 16ms/step - loss: 0.4510 - accuracy: 0.8603 - val_loss: 4.6303 - val_accuracy: 0.3743\n",
            "Epoch 28/100\n",
            "391/391 [==============================] - 5s 14ms/step - loss: 0.4130 - accuracy: 0.8722 - val_loss: 4.8345 - val_accuracy: 0.3784\n",
            "Epoch 29/100\n",
            "391/391 [==============================] - 5s 14ms/step - loss: 0.4062 - accuracy: 0.8733 - val_loss: 4.8325 - val_accuracy: 0.3777\n",
            "Epoch 30/100\n",
            "391/391 [==============================] - 6s 14ms/step - loss: 0.3799 - accuracy: 0.8827 - val_loss: 4.7868 - val_accuracy: 0.3749\n",
            "Epoch 31/100\n",
            "391/391 [==============================] - 6s 14ms/step - loss: 0.3936 - accuracy: 0.8798 - val_loss: 4.7858 - val_accuracy: 0.3806\n",
            "Epoch 32/100\n",
            "391/391 [==============================] - 5s 14ms/step - loss: 0.3592 - accuracy: 0.8902 - val_loss: 4.9565 - val_accuracy: 0.3772\n",
            "Epoch 33/100\n",
            "391/391 [==============================] - 5s 14ms/step - loss: 0.3621 - accuracy: 0.8884 - val_loss: 5.3206 - val_accuracy: 0.3692\n",
            "Epoch 34/100\n",
            "391/391 [==============================] - 5s 14ms/step - loss: 0.3741 - accuracy: 0.8863 - val_loss: 4.9452 - val_accuracy: 0.3768\n",
            "Epoch 35/100\n",
            "391/391 [==============================] - 5s 14ms/step - loss: 0.3504 - accuracy: 0.8953 - val_loss: 5.1024 - val_accuracy: 0.3649\n",
            "Epoch 36/100\n",
            "391/391 [==============================] - 6s 14ms/step - loss: 0.3581 - accuracy: 0.8915 - val_loss: 5.3397 - val_accuracy: 0.3762\n",
            "Epoch 37/100\n",
            "391/391 [==============================] - 6s 14ms/step - loss: 0.3285 - accuracy: 0.9009 - val_loss: 5.3831 - val_accuracy: 0.3776\n",
            "Epoch 38/100\n",
            "391/391 [==============================] - 6s 14ms/step - loss: 0.3334 - accuracy: 0.9006 - val_loss: 5.3823 - val_accuracy: 0.3656\n",
            "Epoch 39/100\n",
            "391/391 [==============================] - 5s 14ms/step - loss: 0.3489 - accuracy: 0.8956 - val_loss: 5.3945 - val_accuracy: 0.3679\n",
            "Epoch 40/100\n",
            "391/391 [==============================] - 5s 14ms/step - loss: 0.3363 - accuracy: 0.8989 - val_loss: 5.4604 - val_accuracy: 0.3801\n",
            "Epoch 41/100\n",
            "391/391 [==============================] - 6s 14ms/step - loss: 0.3219 - accuracy: 0.9015 - val_loss: 5.4182 - val_accuracy: 0.3748\n",
            "Epoch 42/100\n",
            "391/391 [==============================] - 5s 14ms/step - loss: 0.3517 - accuracy: 0.8967 - val_loss: 5.3880 - val_accuracy: 0.3673\n",
            "Epoch 43/100\n",
            "391/391 [==============================] - 6s 14ms/step - loss: 0.3462 - accuracy: 0.8973 - val_loss: 5.4042 - val_accuracy: 0.3651\n",
            "Epoch 44/100\n",
            "391/391 [==============================] - 5s 14ms/step - loss: 0.3240 - accuracy: 0.9037 - val_loss: 5.2560 - val_accuracy: 0.3612\n",
            "Epoch 45/100\n",
            "391/391 [==============================] - 5s 14ms/step - loss: 0.3164 - accuracy: 0.9069 - val_loss: 5.9758 - val_accuracy: 0.3629\n",
            "Epoch 46/100\n",
            "391/391 [==============================] - 5s 14ms/step - loss: 0.3191 - accuracy: 0.9049 - val_loss: 5.4297 - val_accuracy: 0.3683\n",
            "Epoch 47/100\n",
            "391/391 [==============================] - 5s 14ms/step - loss: 0.3367 - accuracy: 0.9023 - val_loss: 5.7944 - val_accuracy: 0.3607\n",
            "Epoch 48/100\n",
            "391/391 [==============================] - 5s 14ms/step - loss: 0.3394 - accuracy: 0.9014 - val_loss: 5.7811 - val_accuracy: 0.3635\n",
            "Epoch 49/100\n",
            "391/391 [==============================] - 6s 14ms/step - loss: 0.3319 - accuracy: 0.9021 - val_loss: 5.5789 - val_accuracy: 0.3708\n",
            "Epoch 50/100\n",
            "391/391 [==============================] - 6s 14ms/step - loss: 0.3196 - accuracy: 0.9067 - val_loss: 6.0534 - val_accuracy: 0.3652\n",
            "Epoch 51/100\n",
            "391/391 [==============================] - 5s 14ms/step - loss: 0.3566 - accuracy: 0.8974 - val_loss: 6.0032 - val_accuracy: 0.3706\n",
            "Epoch 52/100\n",
            "391/391 [==============================] - 5s 14ms/step - loss: 0.3111 - accuracy: 0.9087 - val_loss: 5.7426 - val_accuracy: 0.3703\n",
            "Epoch 53/100\n",
            "391/391 [==============================] - 5s 14ms/step - loss: 0.3414 - accuracy: 0.9007 - val_loss: 6.1617 - val_accuracy: 0.3630\n",
            "Epoch 54/100\n",
            "391/391 [==============================] - 5s 14ms/step - loss: 0.3139 - accuracy: 0.9098 - val_loss: 5.9462 - val_accuracy: 0.3698\n",
            "Epoch 55/100\n",
            "391/391 [==============================] - 5s 14ms/step - loss: 0.2879 - accuracy: 0.9175 - val_loss: 6.3161 - val_accuracy: 0.3581\n",
            "Epoch 56/100\n",
            "391/391 [==============================] - 5s 14ms/step - loss: 0.3050 - accuracy: 0.9119 - val_loss: 6.0521 - val_accuracy: 0.3740\n",
            "Epoch 57/100\n",
            "391/391 [==============================] - 5s 14ms/step - loss: 0.3087 - accuracy: 0.9108 - val_loss: 6.4828 - val_accuracy: 0.3731\n",
            "Epoch 58/100\n",
            "391/391 [==============================] - 5s 14ms/step - loss: 0.3239 - accuracy: 0.9077 - val_loss: 6.6411 - val_accuracy: 0.3665\n",
            "Epoch 59/100\n",
            "391/391 [==============================] - 5s 14ms/step - loss: 0.3156 - accuracy: 0.9100 - val_loss: 6.5936 - val_accuracy: 0.3707\n"
          ]
        }
      ]
    },
    {
      "cell_type": "code",
      "source": [
        "model.save('cifar100_CNN.h5')"
      ],
      "metadata": {
        "id": "n1opJ7m2VGjH"
      },
      "execution_count": null,
      "outputs": []
    },
    {
      "cell_type": "code",
      "source": [
        "score = model.evaluate(x_test,y_test,verbose=0)\n",
        "print('Sai số kiểm tra là: ',score[0])\n",
        "print('Độ chính xác kiểm tra là: ',score[1])\n",
        "plt.plot(history.history['accuracy'])\n",
        "plt.plot(history.history['val_accuracy'])\n",
        "plt.ylabel('accuracy')\n",
        "plt.xlabel('epochs')\n",
        "plt.legend(['train','Validation'])\n",
        "plt.show()"
      ],
      "metadata": {
        "colab": {
          "base_uri": "https://localhost:8080/",
          "height": 314
        },
        "id": "--d5PxojVKVe",
        "outputId": "b3f4e8cc-448f-43b6-af74-0118c182da42"
      },
      "execution_count": null,
      "outputs": [
        {
          "output_type": "stream",
          "name": "stdout",
          "text": [
            "Sai số kiểm tra là:  6.593623638153076\n",
            "Độ chính xác kiểm tra là:  0.37070000171661377\n"
          ]
        },
        {
          "output_type": "display_data",
          "data": {
            "text/plain": [
              "<Figure size 432x288 with 1 Axes>"
            ],
            "image/png": "[encoded data removed]"
          },
          "metadata": {
            "needs_background": "light"
          }
        }
      ]
    }
  ]
}