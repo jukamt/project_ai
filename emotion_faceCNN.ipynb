{
  "nbformat": 4,
  "nbformat_minor": 0,
  "metadata": {
    "colab": {
      "name": "emotion_faceCNN.ipynb",
      "provenance": [],
      "include_colab_link": true
    },
    "kernelspec": {
      "name": "python3",
      "display_name": "Python 3"
    },
    "language_info": {
      "name": "python"
    },
    "accelerator": "GPU"
  },
  "cells": [
    {
      "cell_type": "markdown",
      "metadata": {
        "id": "view-in-github",
        "colab_type": "text"
      },
      "source": [
        "<a href=\"https://colab.research.google.com/github/jukamt/project_ai/blob/main/emotion_faceCNN.ipynb\" target=\"_parent\"><img src=\"https://colab.research.google.com/assets/colab-badge.svg\" alt=\"Open In Colab\"/></a>"
      ]
    },
    {
      "cell_type": "code",
      "execution_count": null,
      "metadata": {
        "id": "VqPNOg8WjwAh",
        "colab": {
          "base_uri": "https://localhost:8080/"
        },
        "outputId": "d0de58c7-0c83-4861-dade-ea42b73ec0b3"
      },
      "outputs": [
        {
          "output_type": "stream",
          "name": "stdout",
          "text": [
            "Mounted at /content/drive\n"
          ]
        }
      ],
      "source": [
        "from google.colab import drive\n",
        "drive.mount('/content/drive')"
      ]
    },
    {
      "cell_type": "code",
      "source": [
        "import numpy as np\n",
        "import cv2\n",
        "import keras\n",
        "import tensorflow as tf\n",
        "import pandas as pd\n",
        "import glob as gb\n",
        "import os\n",
        "import matplotlib.pyplot as plt\n",
        "from random import randint\n",
        "from keras.callbacks import EarlyStopping\n",
        "from random import randint\n",
        "from keras.models import Sequential\n",
        "from keras.layers import Dense, Activation, Dropout, BatchNormalization,  Dropout, Flatten, Conv2D, MaxPooling2D\n",
        "from sklearn.linear_model import Perceptron\n",
        "from keras.utils import np_utils\n",
        "from sklearn.model_selection import train_test_split\n",
        "from tensorflow.keras.optimizers import Adam, SGD, RMSprop\n",
        "from keras.preprocessing.image import load_img,img_to_array\n",
        "from tensorflow.keras.preprocessing.image import ImageDataGenerator"
      ],
      "metadata": {
        "id": "a6FLZpxGn6Me"
      },
      "execution_count": null,
      "outputs": []
    },
    {
      "cell_type": "code",
      "source": [
        "train=ImageDataGenerator(rescale=1/255)\n",
        "validation=ImageDataGenerator(rescale=1/255)\n",
        "training_set=train.flow_from_directory('/content/drive/MyDrive/dataset_face/emtion/train',target_size=(150,150), batch_size=40, class_mode='categorical')"
      ],
      "metadata": {
        "colab": {
          "base_uri": "https://localhost:8080/"
        },
        "id": "-455C3Y4n-MY",
        "outputId": "ecd4b913-77d7-4a55-b0ad-d2f84c21accc"
      },
      "execution_count": null,
      "outputs": [
        {
          "output_type": "stream",
          "name": "stdout",
          "text": [
            "Found 140 images belonging to 7 classes.\n"
          ]
        }
      ]
    },
    {
      "cell_type": "code",
      "source": [
        "training_set.class_indices\n"
      ],
      "metadata": {
        "colab": {
          "base_uri": "https://localhost:8080/"
        },
        "id": "ia0QvsU0skpf",
        "outputId": "c1b6a070-4ecd-4252-dfc0-0cce6cb71e5e"
      },
      "execution_count": null,
      "outputs": [
        {
          "output_type": "execute_result",
          "data": {
            "text/plain": [
              "{'angry': 0,\n",
              " 'disgust': 1,\n",
              " 'fear': 2,\n",
              " 'happy': 3,\n",
              " 'neutral': 4,\n",
              " 'sad': 5,\n",
              " 'surprise': 6}"
            ]
          },
          "metadata": {},
          "execution_count": 4
        }
      ]
    },
    {
      "cell_type": "code",
      "source": [
        "model = Sequential()\n",
        "model.add(Conv2D(16,(3,3),padding='same',kernel_initializer='he_normal',input_shape=(150,150,3)))\n",
        "model.add(MaxPooling2D(pool_size=(2,2)))\n",
        "\n",
        "model.add(Conv2D(32,(3,3),padding='same',kernel_initializer='he_normal'))\n",
        "model.add(MaxPooling2D(pool_size=(2,2)))\n",
        "\n",
        "model.add(Conv2D(64,(3,3),padding='same',kernel_initializer='he_normal'))\n",
        "model.add(MaxPooling2D(pool_size=(2,2)))\n",
        "\n",
        "\n",
        "model.add(Flatten())\n",
        "model.add(Dense(512,activation='relu',kernel_initializer='he_normal'))\n",
        "model.add(Dense(7,activation='softmax'))\n",
        "model.summary()"
      ],
      "metadata": {
        "colab": {
          "base_uri": "https://localhost:8080/"
        },
        "id": "I0kngUBsoL1a",
        "outputId": "00577836-e626-4dc8-c30c-00de894d3b84"
      },
      "execution_count": null,
      "outputs": [
        {
          "output_type": "stream",
          "name": "stdout",
          "text": [
            "Model: \"sequential_2\"\n",
            "_________________________________________________________________\n",
            " Layer (type)                Output Shape              Param #   \n",
            "=================================================================\n",
            " conv2d_6 (Conv2D)           (None, 150, 150, 16)      448       \n",
            "                                                                 \n",
            " max_pooling2d_6 (MaxPooling  (None, 75, 75, 16)       0         \n",
            " 2D)                                                             \n",
            "                                                                 \n",
            " conv2d_7 (Conv2D)           (None, 75, 75, 32)        4640      \n",
            "                                                                 \n",
            " max_pooling2d_7 (MaxPooling  (None, 37, 37, 32)       0         \n",
            " 2D)                                                             \n",
            "                                                                 \n",
            " conv2d_8 (Conv2D)           (None, 37, 37, 64)        18496     \n",
            "                                                                 \n",
            " max_pooling2d_8 (MaxPooling  (None, 18, 18, 64)       0         \n",
            " 2D)                                                             \n",
            "                                                                 \n",
            " flatten_2 (Flatten)         (None, 20736)             0         \n",
            "                                                                 \n",
            " dense_4 (Dense)             (None, 512)               10617344  \n",
            "                                                                 \n",
            " dense_5 (Dense)             (None, 7)                 3591      \n",
            "                                                                 \n",
            "=================================================================\n",
            "Total params: 10,644,519\n",
            "Trainable params: 10,644,519\n",
            "Non-trainable params: 0\n",
            "_________________________________________________________________\n"
          ]
        }
      ]
    },
    {
      "cell_type": "code",
      "source": [
        "opt = SGD(lr=0.01, momentum=0.9)\n",
        "model.compile(optimizer=RMSprop(),loss='categorical_crossentropy',  metrics=['accuracy'])\n",
        "from keras.callbacks import EarlyStopping\n",
        "history = model.fit(training_set, epochs = 50, verbose=1, callbacks=[EarlyStopping(monitor='val_loss', patience=15)])"
      ],
      "metadata": {
        "colab": {
          "base_uri": "https://localhost:8080/"
        },
        "id": "Rq3dHkbVqOar",
        "outputId": "0767dab6-893e-400f-90ae-4cf6c577c594"
      },
      "execution_count": null,
      "outputs": [
        {
          "output_type": "stream",
          "name": "stdout",
          "text": [
            "Epoch 1/50\n"
          ]
        },
        {
          "output_type": "stream",
          "name": "stderr",
          "text": [
            "/usr/local/lib/python3.7/dist-packages/keras/optimizer_v2/gradient_descent.py:102: UserWarning: The `lr` argument is deprecated, use `learning_rate` instead.\n",
            "  super(SGD, self).__init__(name, **kwargs)\n"
          ]
        },
        {
          "output_type": "stream",
          "name": "stdout",
          "text": [
            "4/4 [==============================] - ETA: 0s - loss: 124.1094 - accuracy: 0.1286WARNING:tensorflow:Early stopping conditioned on metric `val_loss` which is not available. Available metrics are: loss,accuracy\n",
            "4/4 [==============================] - 23s 7s/step - loss: 124.1094 - accuracy: 0.1286\n",
            "Epoch 2/50\n",
            "3/4 [=====================>........] - ETA: 0s - loss: 50.7245 - accuracy: 0.1667WARNING:tensorflow:Early stopping conditioned on metric `val_loss` which is not available. Available metrics are: loss,accuracy\n",
            "4/4 [==============================] - 0s 84ms/step - loss: 49.9360 - accuracy: 0.1643\n",
            "Epoch 3/50\n",
            "3/4 [=====================>........] - ETA: 0s - loss: 30.0122 - accuracy: 0.1750WARNING:tensorflow:Early stopping conditioned on metric `val_loss` which is not available. Available metrics are: loss,accuracy\n",
            "4/4 [==============================] - 0s 73ms/step - loss: 26.4769 - accuracy: 0.1857\n",
            "Epoch 4/50\n",
            "4/4 [==============================] - ETA: 0s - loss: 10.4665 - accuracy: 0.1857WARNING:tensorflow:Early stopping conditioned on metric `val_loss` which is not available. Available metrics are: loss,accuracy\n",
            "4/4 [==============================] - 0s 106ms/step - loss: 10.4665 - accuracy: 0.1857\n",
            "Epoch 5/50\n",
            "4/4 [==============================] - ETA: 0s - loss: 3.9816 - accuracy: 0.3071WARNING:tensorflow:Early stopping conditioned on metric `val_loss` which is not available. Available metrics are: loss,accuracy\n",
            "4/4 [==============================] - 0s 104ms/step - loss: 3.9816 - accuracy: 0.3071\n",
            "Epoch 6/50\n",
            "4/4 [==============================] - ETA: 0s - loss: 2.2848 - accuracy: 0.3214WARNING:tensorflow:Early stopping conditioned on metric `val_loss` which is not available. Available metrics are: loss,accuracy\n",
            "4/4 [==============================] - 0s 104ms/step - loss: 2.2848 - accuracy: 0.3214\n",
            "Epoch 7/50\n",
            "4/4 [==============================] - ETA: 0s - loss: 4.7725 - accuracy: 0.2571WARNING:tensorflow:Early stopping conditioned on metric `val_loss` which is not available. Available metrics are: loss,accuracy\n",
            "4/4 [==============================] - 0s 111ms/step - loss: 4.7725 - accuracy: 0.2571\n",
            "Epoch 8/50\n",
            "4/4 [==============================] - ETA: 0s - loss: 2.8032 - accuracy: 0.3357WARNING:tensorflow:Early stopping conditioned on metric `val_loss` which is not available. Available metrics are: loss,accuracy\n",
            "4/4 [==============================] - 0s 84ms/step - loss: 2.8032 - accuracy: 0.3357\n",
            "Epoch 9/50\n",
            "4/4 [==============================] - ETA: 0s - loss: 1.8510 - accuracy: 0.4429WARNING:tensorflow:Early stopping conditioned on metric `val_loss` which is not available. Available metrics are: loss,accuracy\n",
            "4/4 [==============================] - 0s 83ms/step - loss: 1.8510 - accuracy: 0.4429\n",
            "Epoch 10/50\n",
            "4/4 [==============================] - ETA: 0s - loss: 0.9087 - accuracy: 0.7500WARNING:tensorflow:Early stopping conditioned on metric `val_loss` which is not available. Available metrics are: loss,accuracy\n",
            "4/4 [==============================] - 0s 96ms/step - loss: 0.9087 - accuracy: 0.7500\n",
            "Epoch 11/50\n",
            "4/4 [==============================] - ETA: 0s - loss: 0.7653 - accuracy: 0.7643WARNING:tensorflow:Early stopping conditioned on metric `val_loss` which is not available. Available metrics are: loss,accuracy\n",
            "4/4 [==============================] - 0s 83ms/step - loss: 0.7653 - accuracy: 0.7643\n",
            "Epoch 12/50\n",
            "4/4 [==============================] - ETA: 0s - loss: 0.9064 - accuracy: 0.7000WARNING:tensorflow:Early stopping conditioned on metric `val_loss` which is not available. Available metrics are: loss,accuracy\n",
            "4/4 [==============================] - 0s 81ms/step - loss: 0.9064 - accuracy: 0.7000\n",
            "Epoch 13/50\n",
            "4/4 [==============================] - ETA: 0s - loss: 14.8212 - accuracy: 0.1714WARNING:tensorflow:Early stopping conditioned on metric `val_loss` which is not available. Available metrics are: loss,accuracy\n",
            "4/4 [==============================] - 0s 101ms/step - loss: 14.8212 - accuracy: 0.1714\n",
            "Epoch 14/50\n",
            "4/4 [==============================] - ETA: 0s - loss: 15.2085 - accuracy: 0.2143WARNING:tensorflow:Early stopping conditioned on metric `val_loss` which is not available. Available metrics are: loss,accuracy\n",
            "4/4 [==============================] - 0s 103ms/step - loss: 15.2085 - accuracy: 0.2143\n",
            "Epoch 15/50\n",
            "4/4 [==============================] - ETA: 0s - loss: 3.6065 - accuracy: 0.3429WARNING:tensorflow:Early stopping conditioned on metric `val_loss` which is not available. Available metrics are: loss,accuracy\n",
            "4/4 [==============================] - 0s 81ms/step - loss: 3.6065 - accuracy: 0.3429\n",
            "Epoch 16/50\n",
            "4/4 [==============================] - ETA: 0s - loss: 1.0014 - accuracy: 0.7000WARNING:tensorflow:Early stopping conditioned on metric `val_loss` which is not available. Available metrics are: loss,accuracy\n",
            "4/4 [==============================] - 0s 83ms/step - loss: 1.0014 - accuracy: 0.7000\n",
            "Epoch 17/50\n",
            "4/4 [==============================] - ETA: 0s - loss: 1.0844 - accuracy: 0.6143WARNING:tensorflow:Early stopping conditioned on metric `val_loss` which is not available. Available metrics are: loss,accuracy\n",
            "4/4 [==============================] - 0s 86ms/step - loss: 1.0844 - accuracy: 0.6143\n",
            "Epoch 18/50\n",
            "3/4 [=====================>........] - ETA: 0s - loss: 4.0337 - accuracy: 0.4000WARNING:tensorflow:Early stopping conditioned on metric `val_loss` which is not available. Available metrics are: loss,accuracy\n",
            "4/4 [==============================] - 0s 78ms/step - loss: 4.0011 - accuracy: 0.4143\n",
            "Epoch 19/50\n",
            "4/4 [==============================] - ETA: 0s - loss: 6.5153 - accuracy: 0.4143 WARNING:tensorflow:Early stopping conditioned on metric `val_loss` which is not available. Available metrics are: loss,accuracy\n",
            "4/4 [==============================] - 0s 81ms/step - loss: 6.5153 - accuracy: 0.4143\n",
            "Epoch 20/50\n",
            "3/4 [=====================>........] - ETA: 0s - loss: 0.5536 - accuracy: 0.8500WARNING:tensorflow:Early stopping conditioned on metric `val_loss` which is not available. Available metrics are: loss,accuracy\n",
            "4/4 [==============================] - 0s 79ms/step - loss: 0.5250 - accuracy: 0.8500\n",
            "Epoch 21/50\n",
            "4/4 [==============================] - ETA: 0s - loss: 0.2894 - accuracy: 0.9429WARNING:tensorflow:Early stopping conditioned on metric `val_loss` which is not available. Available metrics are: loss,accuracy\n",
            "4/4 [==============================] - 0s 83ms/step - loss: 0.2894 - accuracy: 0.9429\n",
            "Epoch 22/50\n",
            "4/4 [==============================] - ETA: 0s - loss: 0.2897 - accuracy: 0.9357WARNING:tensorflow:Early stopping conditioned on metric `val_loss` which is not available. Available metrics are: loss,accuracy\n",
            "4/4 [==============================] - 0s 99ms/step - loss: 0.2897 - accuracy: 0.9357\n",
            "Epoch 23/50\n",
            "4/4 [==============================] - ETA: 0s - loss: 0.3743 - accuracy: 0.8929WARNING:tensorflow:Early stopping conditioned on metric `val_loss` which is not available. Available metrics are: loss,accuracy\n",
            "4/4 [==============================] - 0s 81ms/step - loss: 0.3743 - accuracy: 0.8929\n",
            "Epoch 24/50\n",
            "4/4 [==============================] - ETA: 0s - loss: 0.5725 - accuracy: 0.8214WARNING:tensorflow:Early stopping conditioned on metric `val_loss` which is not available. Available metrics are: loss,accuracy\n",
            "4/4 [==============================] - 0s 82ms/step - loss: 0.5725 - accuracy: 0.8214\n",
            "Epoch 25/50\n",
            "4/4 [==============================] - ETA: 0s - loss: 0.1123 - accuracy: 0.9786WARNING:tensorflow:Early stopping conditioned on metric `val_loss` which is not available. Available metrics are: loss,accuracy\n",
            "4/4 [==============================] - 0s 122ms/step - loss: 0.1123 - accuracy: 0.9786\n",
            "Epoch 26/50\n",
            "4/4 [==============================] - ETA: 0s - loss: 0.0733 - accuracy: 1.0000WARNING:tensorflow:Early stopping conditioned on metric `val_loss` which is not available. Available metrics are: loss,accuracy\n",
            "4/4 [==============================] - 1s 128ms/step - loss: 0.0733 - accuracy: 1.0000\n",
            "Epoch 27/50\n",
            "4/4 [==============================] - ETA: 0s - loss: 0.0682 - accuracy: 1.0000WARNING:tensorflow:Early stopping conditioned on metric `val_loss` which is not available. Available metrics are: loss,accuracy\n",
            "4/4 [==============================] - 1s 136ms/step - loss: 0.0682 - accuracy: 1.0000\n",
            "Epoch 28/50\n",
            "4/4 [==============================] - ETA: 0s - loss: 0.0418 - accuracy: 1.0000WARNING:tensorflow:Early stopping conditioned on metric `val_loss` which is not available. Available metrics are: loss,accuracy\n",
            "4/4 [==============================] - 1s 142ms/step - loss: 0.0418 - accuracy: 1.0000\n",
            "Epoch 29/50\n",
            "4/4 [==============================] - ETA: 0s - loss: 0.0269 - accuracy: 1.0000WARNING:tensorflow:Early stopping conditioned on metric `val_loss` which is not available. Available metrics are: loss,accuracy\n",
            "4/4 [==============================] - 1s 120ms/step - loss: 0.0269 - accuracy: 1.0000\n",
            "Epoch 30/50\n",
            "4/4 [==============================] - ETA: 0s - loss: 0.0184 - accuracy: 1.0000WARNING:tensorflow:Early stopping conditioned on metric `val_loss` which is not available. Available metrics are: loss,accuracy\n",
            "4/4 [==============================] - 1s 114ms/step - loss: 0.0184 - accuracy: 1.0000\n",
            "Epoch 31/50\n",
            "4/4 [==============================] - ETA: 0s - loss: 0.0134 - accuracy: 1.0000WARNING:tensorflow:Early stopping conditioned on metric `val_loss` which is not available. Available metrics are: loss,accuracy\n",
            "4/4 [==============================] - 1s 134ms/step - loss: 0.0134 - accuracy: 1.0000\n",
            "Epoch 32/50\n",
            "4/4 [==============================] - ETA: 0s - loss: 0.0108 - accuracy: 1.0000WARNING:tensorflow:Early stopping conditioned on metric `val_loss` which is not available. Available metrics are: loss,accuracy\n",
            "4/4 [==============================] - 1s 133ms/step - loss: 0.0108 - accuracy: 1.0000\n",
            "Epoch 33/50\n",
            "4/4 [==============================] - ETA: 0s - loss: 0.0088 - accuracy: 1.0000WARNING:tensorflow:Early stopping conditioned on metric `val_loss` which is not available. Available metrics are: loss,accuracy\n",
            "4/4 [==============================] - 1s 132ms/step - loss: 0.0088 - accuracy: 1.0000\n",
            "Epoch 34/50\n",
            "4/4 [==============================] - ETA: 0s - loss: 0.0075 - accuracy: 1.0000WARNING:tensorflow:Early stopping conditioned on metric `val_loss` which is not available. Available metrics are: loss,accuracy\n",
            "4/4 [==============================] - 1s 108ms/step - loss: 0.0075 - accuracy: 1.0000\n",
            "Epoch 35/50\n",
            "4/4 [==============================] - ETA: 0s - loss: 0.0057 - accuracy: 1.0000WARNING:tensorflow:Early stopping conditioned on metric `val_loss` which is not available. Available metrics are: loss,accuracy\n",
            "4/4 [==============================] - 0s 79ms/step - loss: 0.0057 - accuracy: 1.0000\n",
            "Epoch 36/50\n",
            "3/4 [=====================>........] - ETA: 0s - loss: 0.0039 - accuracy: 1.0000WARNING:tensorflow:Early stopping conditioned on metric `val_loss` which is not available. Available metrics are: loss,accuracy\n",
            "4/4 [==============================] - 0s 77ms/step - loss: 0.0037 - accuracy: 1.0000\n",
            "Epoch 37/50\n",
            "4/4 [==============================] - ETA: 0s - loss: 0.0033 - accuracy: 1.0000WARNING:tensorflow:Early stopping conditioned on metric `val_loss` which is not available. Available metrics are: loss,accuracy\n",
            "4/4 [==============================] - 0s 80ms/step - loss: 0.0033 - accuracy: 1.0000\n",
            "Epoch 38/50\n",
            "4/4 [==============================] - ETA: 0s - loss: 0.0027 - accuracy: 1.0000WARNING:tensorflow:Early stopping conditioned on metric `val_loss` which is not available. Available metrics are: loss,accuracy\n",
            "4/4 [==============================] - 0s 105ms/step - loss: 0.0027 - accuracy: 1.0000\n",
            "Epoch 39/50\n",
            "4/4 [==============================] - ETA: 0s - loss: 0.0017 - accuracy: 1.0000WARNING:tensorflow:Early stopping conditioned on metric `val_loss` which is not available. Available metrics are: loss,accuracy\n",
            "4/4 [==============================] - 0s 84ms/step - loss: 0.0017 - accuracy: 1.0000\n",
            "Epoch 40/50\n",
            "4/4 [==============================] - ETA: 0s - loss: 0.0014 - accuracy: 1.0000WARNING:tensorflow:Early stopping conditioned on metric `val_loss` which is not available. Available metrics are: loss,accuracy\n",
            "4/4 [==============================] - 0s 80ms/step - loss: 0.0014 - accuracy: 1.0000\n",
            "Epoch 41/50\n",
            "4/4 [==============================] - ETA: 0s - loss: 0.0014 - accuracy: 1.0000WARNING:tensorflow:Early stopping conditioned on metric `val_loss` which is not available. Available metrics are: loss,accuracy\n",
            "4/4 [==============================] - 0s 97ms/step - loss: 0.0014 - accuracy: 1.0000\n",
            "Epoch 42/50\n",
            "4/4 [==============================] - ETA: 0s - loss: 0.0012 - accuracy: 1.0000WARNING:tensorflow:Early stopping conditioned on metric `val_loss` which is not available. Available metrics are: loss,accuracy\n",
            "4/4 [==============================] - 0s 89ms/step - loss: 0.0012 - accuracy: 1.0000\n",
            "Epoch 43/50\n",
            "4/4 [==============================] - ETA: 0s - loss: 6.7159e-04 - accuracy: 1.0000WARNING:tensorflow:Early stopping conditioned on metric `val_loss` which is not available. Available metrics are: loss,accuracy\n",
            "4/4 [==============================] - 0s 96ms/step - loss: 6.7159e-04 - accuracy: 1.0000\n",
            "Epoch 44/50\n",
            "4/4 [==============================] - ETA: 0s - loss: 5.1450e-04 - accuracy: 1.0000WARNING:tensorflow:Early stopping conditioned on metric `val_loss` which is not available. Available metrics are: loss,accuracy\n",
            "4/4 [==============================] - 0s 76ms/step - loss: 5.1450e-04 - accuracy: 1.0000\n",
            "Epoch 45/50\n",
            "4/4 [==============================] - ETA: 0s - loss: 4.5935e-04 - accuracy: 1.0000WARNING:tensorflow:Early stopping conditioned on metric `val_loss` which is not available. Available metrics are: loss,accuracy\n",
            "4/4 [==============================] - 0s 99ms/step - loss: 4.5935e-04 - accuracy: 1.0000\n",
            "Epoch 46/50\n",
            "4/4 [==============================] - ETA: 0s - loss: 2.8144e-04 - accuracy: 1.0000WARNING:tensorflow:Early stopping conditioned on metric `val_loss` which is not available. Available metrics are: loss,accuracy\n",
            "4/4 [==============================] - 0s 79ms/step - loss: 2.8144e-04 - accuracy: 1.0000\n",
            "Epoch 47/50\n",
            "4/4 [==============================] - ETA: 0s - loss: 2.4678e-04 - accuracy: 1.0000WARNING:tensorflow:Early stopping conditioned on metric `val_loss` which is not available. Available metrics are: loss,accuracy\n",
            "4/4 [==============================] - 0s 103ms/step - loss: 2.4678e-04 - accuracy: 1.0000\n",
            "Epoch 48/50\n",
            "4/4 [==============================] - ETA: 0s - loss: 2.4395e-04 - accuracy: 1.0000WARNING:tensorflow:Early stopping conditioned on metric `val_loss` which is not available. Available metrics are: loss,accuracy\n",
            "4/4 [==============================] - 0s 80ms/step - loss: 2.4395e-04 - accuracy: 1.0000\n",
            "Epoch 49/50\n",
            "3/4 [=====================>........] - ETA: 0s - loss: 1.3093e-04 - accuracy: 1.0000WARNING:tensorflow:Early stopping conditioned on metric `val_loss` which is not available. Available metrics are: loss,accuracy\n",
            "4/4 [==============================] - 0s 78ms/step - loss: 1.3428e-04 - accuracy: 1.0000\n",
            "Epoch 50/50\n",
            "4/4 [==============================] - ETA: 0s - loss: 1.0484e-04 - accuracy: 1.0000WARNING:tensorflow:Early stopping conditioned on metric `val_loss` which is not available. Available metrics are: loss,accuracy\n",
            "4/4 [==============================] - 0s 83ms/step - loss: 1.0484e-04 - accuracy: 1.0000\n"
          ]
        }
      ]
    },
    {
      "cell_type": "code",
      "source": [
        "model.save('CNN_emotion.h5')\n"
      ],
      "metadata": {
        "id": "ZykOunhOuVhT"
      },
      "execution_count": null,
      "outputs": []
    },
    {
      "cell_type": "code",
      "source": [
        "from keras.models import load_model\n",
        "CNN_emotion =load_model('CNN_emotion.h5')"
      ],
      "metadata": {
        "id": "HRVCXhH9wuPl"
      },
      "execution_count": null,
      "outputs": []
    },
    {
      "cell_type": "code",
      "source": [
        "plt.plot(history.history['accuracy'])\n",
        "plt.ylabel('accuracy')\n",
        "plt.xlabel('epochs')\n",
        "plt.legend('train')\n",
        "plt.show()"
      ],
      "metadata": {
        "id": "50BGiJ4cuZX5",
        "outputId": "501a18f7-3ae4-4d6f-fb4e-7cd64538e505",
        "colab": {
          "base_uri": "https://localhost:8080/",
          "height": 279
        }
      },
      "execution_count": null,
      "outputs": [
        {
          "output_type": "display_data",
          "data": {
            "text/plain": [
              "<Figure size 432x288 with 1 Axes>"
            ],
            "image/png": "[encoded data removed]"
          },
          "metadata": {
            "needs_background": "light"
          }
        }
      ]
    },
    {
      "cell_type": "code",
      "source": [
        "img_path = '/content/drive/MyDrive/dataset_face/emtion/test/angry/PrivateTest_1054527.jpg'\n",
        "img=load_img(img_path,target_size=(150,150))\n",
        "plt.imshow(img)\n",
        "img=img_to_array(img)\n",
        "img=img.reshape(1,150,150,3)\n",
        "img=img.astype('float32')\n",
        "img=img/255\n",
        "emotion=np.argmax(CNN_emotion.predict(img),axis=1)\n",
        "pred = model.predict(img)\n",
        "classes = ['angry','sad','happy','disgust','fear','neutral','surprise']\n",
        "print(np.argmax(pred))\n",
        "if emotion==0: print(classes[0])\n",
        "elif emotion==1: print(classes[1])\n",
        "elif emotion==2: print(classes[2])\n",
        "elif emotion==3: print(classes[3])\n",
        "elif emotion==4: print(classes[4])\n",
        "elif emotion==5: print(classes[5])\n",
        "elif emotion==6: print(classes[6])\n",
        "elif emotion==7: print(classes[7])"
      ],
      "metadata": {
        "id": "WKuA_Hq6ucdS",
        "outputId": "ecade1ae-8ded-4c4d-8483-7df502f92f18",
        "colab": {
          "base_uri": "https://localhost:8080/",
          "height": 304
        }
      },
      "execution_count": null,
      "outputs": [
        {
          "output_type": "stream",
          "name": "stdout",
          "text": [
            "1\n",
            "sad\n"
          ]
        },
        {
          "output_type": "display_data",
          "data": {
            "text/plain": [
              "<Figure size 432x288 with 1 Axes>"
            ],
            "image/png": "[encoded data removed]"
          },
          "metadata": {
            "needs_background": "light"
          }
        }
      ]
    },
    {
      "cell_type": "code",
      "source": [
        "img_path = '/content/drive/MyDrive/dataset_face/emtion/test/happy/PrivateTest_1735299.jpg'\n",
        "img=load_img(img_path,target_size=(150,150))\n",
        "plt.imshow(img)\n",
        "img=img_to_array(img)\n",
        "img=img.reshape(1,150,150,3)\n",
        "img=img.astype('float32')\n",
        "img=img/255\n",
        "emotion=np.argmax(CNN_emotion.predict(img),axis=1)\n",
        "pred = model.predict(img)\n",
        "classes = ['angry','sad','happy','disgust','fear','neutral','surprise']\n",
        "print(np.argmax(pred))\n",
        "if emotion==0: print(classes[0])\n",
        "elif emotion==1: print(classes[1])\n",
        "elif emotion==2: print(classes[2])\n",
        "elif emotion==3: print(classes[3])\n",
        "elif emotion==4: print(classes[4])\n",
        "elif emotion==5: print(classes[5])\n",
        "elif emotion==6: print(classes[6])\n",
        "elif emotion==7: print(classes[7])"
      ],
      "metadata": {
        "colab": {
          "base_uri": "https://localhost:8080/",
          "height": 304
        },
        "id": "rYK8x_I7xwm0",
        "outputId": "0bafa18c-7678-4a8f-e400-d642a51b47c9"
      },
      "execution_count": null,
      "outputs": [
        {
          "output_type": "stream",
          "name": "stdout",
          "text": [
            "4\n",
            "fear\n"
          ]
        },
        {
          "output_type": "display_data",
          "data": {
            "text/plain": [
              "<Figure size 432x288 with 1 Axes>"
            ],
            "image/png": "[encoded data removed]"
          },
          "metadata": {
            "needs_background": "light"
          }
        }
      ]
    }
  ]
}